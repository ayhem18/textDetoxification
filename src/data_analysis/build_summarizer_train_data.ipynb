{
 "cells": [
  {
   "cell_type": "markdown",
   "metadata": {},
   "source": [
    "# Imports and Data Loading"
   ]
  },
  {
   "cell_type": "code",
   "execution_count": 23,
   "metadata": {},
   "outputs": [],
   "source": [
    "# the notebook's main objective is to filter and prepare the dataset to train a summarizer on it.\n",
    "import os, sys\n",
    "from pathlib import Path\n",
    "HOME = os.getcwd()\n",
    "DATA_FOLDER = os.path.join(Path(HOME).parent, 'data')\n",
    "data_path = os.path.join(DATA_FOLDER, 'filtered.tsv')"
   ]
  },
  {
   "cell_type": "code",
   "execution_count": 24,
   "metadata": {},
   "outputs": [],
   "source": [
    "current = HOME \n",
    "while 'src' not in os.listdir(current):\n",
    "    current = Path(current).parent\n",
    "\n",
    "sys.path.append(str(current))\n",
    "sys.path.append(os.path.join(str(current), 'data_analysis'))\n",
    "sys.path.append(os.path.join(str(current), 'evaluation'))\n",
    "sys.path.append(os.path.join(str(current), 'text_processing'))"
   ]
  },
  {
   "cell_type": "code",
   "execution_count": 25,
   "metadata": {},
   "outputs": [],
   "source": [
    "# let's load the data as a HF Dataset\n",
    "from datasets import load_dataset\n",
    "original_data = load_dataset('csv', data_files=os.path.join(DATA_FOLDER, 'fixed.csv'), split='train')"
   ]
  },
  {
   "cell_type": "code",
   "execution_count": 26,
   "metadata": {},
   "outputs": [
    {
     "data": {
      "text/plain": [
       "Dataset({\n",
       "    features: ['source', 'target'],\n",
       "    num_rows: 577777\n",
       "})"
      ]
     },
     "execution_count": 26,
     "metadata": {},
     "output_type": "execute_result"
    }
   ],
   "source": [
    "# let's start with removing all fields but 'source' and 'target'\n",
    "original_data = original_data.remove_columns(['source_tox', 'target_tox', 'similarity', 'lenght_diff'])\n",
    "original_data"
   ]
  },
  {
   "cell_type": "markdown",
   "metadata": {},
   "source": [
    "# Original Dataset"
   ]
  },
  {
   "cell_type": "code",
   "execution_count": 27,
   "metadata": {},
   "outputs": [
    {
     "data": {
      "text/plain": [
       "Dataset({\n",
       "    features: ['source', 'target'],\n",
       "    num_rows: 1000\n",
       "})"
      ]
     },
     "execution_count": 27,
     "metadata": {},
     "output_type": "execute_result"
    }
   ],
   "source": [
    "sample = original_data.shuffle(seed=69).select(range(1000))\n",
    "sample"
   ]
  },
  {
   "cell_type": "code",
   "execution_count": 28,
   "metadata": {},
   "outputs": [],
   "source": [
    "from src.text_processing import preprocess as pr\n",
    "def process_text(text: str) -> str:\n",
    "    return pr.no_extra_spaces(pr.no_extra_chars(pr.to_lower(text)))"
   ]
  },
  {
   "cell_type": "code",
   "execution_count": 29,
   "metadata": {},
   "outputs": [],
   "source": [
    "# the first step is to process the data \n",
    "def process_sample_text(batch):\n",
    "    \"\"\"This function recieves  batch of samples from the original data. It returns a new batch where each\n",
    "    'source' and 'target' text data will be processed using the function above\n",
    "    \"\"\"\n",
    "    new_batch = dict([(k, [process_text(t) for t in v]) for k, v in batch.items()])\n",
    "    return new_batch\n",
    "\n",
    "\n",
    "sample = sample.map(process_sample_text, batched=True)"
   ]
  },
  {
   "cell_type": "code",
   "execution_count": 30,
   "metadata": {},
   "outputs": [],
   "source": [
    "# the next step is to filter the dataset\n",
    "def filter_data(sample):\n",
    "    \"\"\"This function receives  a batch of samples from the original data and filters those whose 'source' text is shorter than the 'target' text.\"\"\"\n",
    "    # first tokenize each 'source' and 'target' fields\n",
    "    source = pr.tokenize(sample['source'], tokenizer_type='word')\n",
    "    target = pr.tokenize(sample['target'], tokenizer_type='word')\n",
    "    return len(source) > len(target)\n",
    "\n",
    "sample = sample.filter(filter_data)"
   ]
  },
  {
   "cell_type": "code",
   "execution_count": 31,
   "metadata": {},
   "outputs": [
    {
     "data": {
      "text/plain": [
       "Dataset({\n",
       "    features: ['source', 'target'],\n",
       "    num_rows: 458\n",
       "})"
      ]
     },
     "execution_count": 31,
     "metadata": {},
     "output_type": "execute_result"
    }
   ],
   "source": [
    "sample"
   ]
  },
  {
   "cell_type": "markdown",
   "metadata": {},
   "source": [
    "# Auxiliary Dataset"
   ]
  },
  {
   "cell_type": "code",
   "execution_count": 32,
   "metadata": {},
   "outputs": [],
   "source": [
    "from transformers import set_seed\n",
    "# set the seed for reproducibility, set_seed(69)\n",
    "aux_data = load_dataset('s-nlp/paradetox')['train'] # the dataset has only one split: 'train'\n",
    "# shuffle the data\n",
    "aux_data = aux_data.rename_column('en_toxic_comment', 'source').rename_column('en_neutral_comment', 'target').shuffle(seed=69)\n",
    "# split the data\n",
    "train_split, val_split, test_split = aux_data.select(range(2000, len(aux_data))), aux_data.select(range(1000)), aux_data.select(range(1000, 2000))"
   ]
  },
  {
   "cell_type": "code",
   "execution_count": 33,
   "metadata": {},
   "outputs": [
    {
     "data": {
      "text/plain": [
       "(Dataset({\n",
       "     features: ['source', 'target'],\n",
       "     num_rows: 17744\n",
       " }),\n",
       " Dataset({\n",
       "     features: ['source', 'target'],\n",
       "     num_rows: 1000\n",
       " }),\n",
       " Dataset({\n",
       "     features: ['source', 'target'],\n",
       "     num_rows: 1000\n",
       " }))"
      ]
     },
     "execution_count": 33,
     "metadata": {},
     "output_type": "execute_result"
    }
   ],
   "source": [
    "train_split, val_split, test_split"
   ]
  },
  {
   "cell_type": "code",
   "execution_count": 34,
   "metadata": {},
   "outputs": [],
   "source": [
    "from datasets import concatenate_datasets\n",
    "# make sure to change the first val_split to 'train_split' after making sure the code works\n",
    "train_data, val_data, test_data = concatenate_datasets([train_split, sample]), val_split, test_split"
   ]
  },
  {
   "cell_type": "markdown",
   "metadata": {},
   "source": [
    "# DataLoaders"
   ]
  },
  {
   "cell_type": "code",
   "execution_count": 35,
   "metadata": {},
   "outputs": [],
   "source": [
    "# the next step is to tokenize the data  \n",
    "import torch\n",
    "from transformers import AutoModelForSeq2SeqLM, AutoTokenizer\n",
    "CHECKPOINT = 't5-small'\n",
    "DEVICE = 'cuda' if torch.cuda.is_available() else 'cpu'\n",
    "TOKENIZER = AutoTokenizer.from_pretrained(CHECKPOINT)\n",
    "MODEL = AutoModelForSeq2SeqLM.from_pretrained(CHECKPOINT).to(DEVICE)"
   ]
  },
  {
   "cell_type": "code",
   "execution_count": 36,
   "metadata": {},
   "outputs": [],
   "source": [
    "TASK_PREFIX = 'summarize: '\n",
    "\n",
    "def prepare_labeled_data(batch):\n",
    "    # add the task predix to each sentence\n",
    "    inputs = [TASK_PREFIX + doc for doc in batch[\"source\"]]\n",
    "    # tokenize 'x'\n",
    "    model_inputs = TOKENIZER(inputs, truncation=True, max_length=1028)\n",
    "    # tokenize 'y'  \n",
    "    labels = TOKENIZER(text_target=batch[\"target\"], truncation=True)\n",
    "    # add it to the model's input\n",
    "    model_inputs[\"labels\"] = labels[\"input_ids\"]\n",
    "    return model_inputs"
   ]
  },
  {
   "cell_type": "code",
   "execution_count": 37,
   "metadata": {},
   "outputs": [
    {
     "name": "stderr",
     "output_type": "stream",
     "text": [
      "Map: 100%|██████████| 1458/1458 [00:00<00:00, 22508.19 examples/s]\n"
     ]
    }
   ],
   "source": [
    "train_data = train_data.map(prepare_labeled_data, batched=True).remove_columns(['source', 'target'])\n",
    "val_data = val_data.map(prepare_labeled_data, batched=True).remove_columns(['source', 'target'])"
   ]
  },
  {
   "cell_type": "code",
   "execution_count": 39,
   "metadata": {},
   "outputs": [],
   "source": [
    "train_data, val_data\n",
    "# let's choose a small portion of the data to experiment with\n",
    "train_data = train_data.shuffle(seed=69).select(range(500))"
   ]
  },
  {
   "cell_type": "code",
   "execution_count": 40,
   "metadata": {},
   "outputs": [],
   "source": [
    "# create a DataCollator for padding for the sequence to sequence models\n",
    "from transformers import DataCollatorForSeq2Seq\n",
    "data_collator = DataCollatorForSeq2Seq(tokenizer=TOKENIZER, model=CHECKPOINT)\n",
    "# we are now ready to create the dataloader\n",
    "from torch.utils.data import DataLoader\n",
    "train_dl = DataLoader(dataset=train_data, batch_size=4, shuffle=True, collate_fn=data_collator)\n",
    "val_dl = DataLoader(dataset=val_data, batch_size=4, shuffle=False, collate_fn=data_collator)"
   ]
  },
  {
   "cell_type": "code",
   "execution_count": 41,
   "metadata": {},
   "outputs": [
    {
     "name": "stderr",
     "output_type": "stream",
     "text": [
      "You're using a T5TokenizerFast tokenizer. Please note that with a fast tokenizer, using the `__call__` method is faster than using a method to encode the text followed by a call to the `pad` method to get a padded encoding.\n"
     ]
    }
   ],
   "source": [
    "# make sure the data is loaded correctly\n",
    "b1, b2 = next(iter(train_dl)), next(iter(val_dl))"
   ]
  },
  {
   "cell_type": "markdown",
   "metadata": {},
   "source": [
    "# Model Training"
   ]
  },
  {
   "cell_type": "markdown",
   "metadata": {},
   "source": [
    "## Training Code"
   ]
  },
  {
   "cell_type": "markdown",
   "metadata": {},
   "source": [
    "## Train utilities"
   ]
  },
  {
   "cell_type": "code",
   "execution_count": 43,
   "metadata": {},
   "outputs": [],
   "source": [
    "from src.evaluation import toxicity_classication as tc\n",
    "singleton_obj = tc.EvalutionSingletonInitializer()\n",
    "tx_classifier, tx_tokenizer, tx_device = singleton_obj.get_toxic_classifier(), singleton_obj.get_toxic_tokenizer(), singleton_obj.get_device()\n",
    "# let's define some of the training parameters\n",
    "from torch.optim import Adam\n",
    "from torch.optim.lr_scheduler import LinearLR\n",
    "\n",
    "# lr: the same as the one used in the/home/ayhem18/DEV/My_Kaggle_Repo/pytorch_modular/pytorch_utilities.py\n",
    "optimizer = Adam(MODEL.parameters(), lr=2 * 10 ** -5)\n",
    "scheduler = LinearLR(optimizer=optimizer, start_factor=1, end_factor=0.5,total_iters=100)"
   ]
  },
  {
   "cell_type": "code",
   "execution_count": 49,
   "metadata": {},
   "outputs": [],
   "source": [
    "# let's write a function to compute the summarization + toxicity loss\n",
    "from src.evaluation.toxicity_classication import EvalutionSingletonInitializer\n",
    "from torch.nn.functional import softmax\n",
    "from typing import Union\n",
    "\n",
    "def toxic_summary_model_loss(output_decoded: torch.Tensor, \n",
    "                             device,\n",
    "                             return_tensor: bool=False) -> Union[float, torch.Tensor]:\n",
    "    \n",
    "    singleton_obj = EvalutionSingletonInitializer()\n",
    "    tc_tokenizer, tc_classifier = singleton_obj.get_toxic_tokenizer(), singleton_obj.get_toxic_classifier()\n",
    "\n",
    "    # make sure to freeze their parameters\n",
    "    for p in tx_classifier.parameters():\n",
    "        p.requires_grad = False\n",
    "\n",
    "    tc_classifier.to(device)\n",
    "    # tokenize\n",
    "    model_input = tc_tokenizer(output_decoded, return_tensors='pt', padding=True, truncation=True)\n",
    "    # set the input to the device\n",
    "    model_input = {k: v.to(device) for k, v in model_input.items()}\n",
    "    # pass through the model\n",
    "    output = tc_classifier(**model_input)\n",
    "    \n",
    "    loss = torch.mean(softmax(output.logits, dim=1)[:, 1])\n",
    "    \n",
    "    if return_tensor: \n",
    "        loss.requires_grad=True\n",
    "        return loss\n",
    "    \n",
    "    return loss.item()\n"
   ]
  },
  {
   "cell_type": "code",
   "execution_count": 56,
   "metadata": {},
   "outputs": [
    {
     "name": "stdout",
     "output_type": "stream",
     "text": [
      "[INFO] Created SummaryWriter, saving to: /home/ayhem18/DEV/TextDetoxification/src/data_analysis/runs/experience_6...\n"
     ]
    },
    {
     "name": "stderr",
     "output_type": "stream",
     "text": [
      " 50%|█████     | 1/2 [00:39<00:39, 39.56s/it]"
     ]
    },
    {
     "name": "stdout",
     "output_type": "stream",
     "text": [
      "Training losses\n",
      "train_loss: 1.3837907037734984\n",
      "loss: 1.1527388542890549\n",
      "toxic_loss: 0.5399586112574761\n",
      "##################################################\n",
      "\n"
     ]
    },
    {
     "name": "stderr",
     "output_type": "stream",
     "text": [
      "100%|██████████| 2/2 [01:19<00:00, 39.59s/it]"
     ]
    },
    {
     "name": "stdout",
     "output_type": "stream",
     "text": [
      "Training losses\n",
      "train_loss: 1.375048008441925\n",
      "loss: 1.1357569699287415\n",
      "toxic_loss: 0.5365462037323451\n",
      "##################################################\n",
      "\n"
     ]
    },
    {
     "name": "stderr",
     "output_type": "stream",
     "text": [
      "\n"
     ]
    }
   ],
   "source": [
    "from src.data_analysis.models import summarizer as ss\n",
    "import src.training_utilities.exp_tracking as et\n",
    "import importlib \n",
    "importlib.reload(ss)\n",
    "importlib.reload(et)\n",
    "\n",
    "_, _, best_model = ss.train_custom_summarizer(train_dataloader=train_dl, \n",
    "                                            val_dataloader=val_dl,\n",
    "                                            summary_model=MODEL,\n",
    "                                            summary_tokenizer=TOKENIZER, \n",
    "                                            toxicity_loss_function=toxic_summary_model_loss,\n",
    "                                            toxicity_coeff=0.5, \n",
    "                                            optimizer=optimizer, \n",
    "                                            scheduler=scheduler, \n",
    "                                            num_epochs=2,   \n",
    "                                            report_per_epoch=1,\n",
    "                                            log_dir=os.path.join(HOME, 'runs')\n",
    "                                            )\n"
   ]
  },
  {
   "cell_type": "code",
   "execution_count": null,
   "metadata": {},
   "outputs": [],
   "source": []
  }
 ],
 "metadata": {
  "kernelspec": {
   "display_name": "env",
   "language": "python",
   "name": "python3"
  },
  "language_info": {
   "codemirror_mode": {
    "name": "ipython",
    "version": 3
   },
   "file_extension": ".py",
   "mimetype": "text/x-python",
   "name": "python",
   "nbconvert_exporter": "python",
   "pygments_lexer": "ipython3",
   "version": "3.11.5"
  }
 },
 "nbformat": 4,
 "nbformat_minor": 2
}
