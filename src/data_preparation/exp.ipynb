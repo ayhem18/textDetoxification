{
 "cells": [
  {
   "cell_type": "code",
   "execution_count": 1,
   "metadata": {},
   "outputs": [],
   "source": [
    "import os, sys\n",
    "from pathlib import Path\n",
    "from typing import Dict, Tuple, List\n",
    "import spacy\n",
    "\n",
    "HOME = os.getcwd()\n",
    "DATA_FOLDER = os.path.join(Path(HOME).parent, 'data')\n",
    "data_path = os.path.join(DATA_FOLDER, 'filtered.tsv')"
   ]
  },
  {
   "cell_type": "code",
   "execution_count": 2,
   "metadata": {},
   "outputs": [],
   "source": [
    "current = HOME \n",
    "while 'src' not in os.listdir(current):\n",
    "    current = Path(current).parent\n",
    "\n",
    "PARENT_DIR = current\n",
    "\n",
    "sys.path.append(str(current))\n",
    "sys.path.append(os.path.join(str(current), 'data_analysis'))\n",
    "sys.path.append(os.path.join(str(current), 'evaluation'))\n",
    "sys.path.append(os.path.join(str(current), 'text_processing'))"
   ]
  },
  {
   "cell_type": "code",
   "execution_count": 3,
   "metadata": {},
   "outputs": [
    {
     "name": "stderr",
     "output_type": "stream",
     "text": [
      "/home/ayhem18/DEV/TextDetoxification/env/lib/python3.11/site-packages/tqdm/auto.py:22: TqdmWarning: IProgress not found. Please update jupyter and ipywidgets. See https://ipywidgets.readthedocs.io/en/stable/user_install.html\n",
      "  from .autonotebook import tqdm as notebook_tqdm\n",
      "Downloading data files: 100%|██████████| 1/1 [00:00<00:00, 13797.05it/s]\n",
      "Extracting data files: 100%|██████████| 1/1 [00:00<00:00, 674.22it/s]\n",
      "Generating train split: 577777 examples [00:01, 468400.28 examples/s]\n"
     ]
    }
   ],
   "source": [
    "# let's first fix the data \n",
    "import src.text_processing.preprocess as pr\n",
    "import src.data_preparation.prepare_data as prd \n",
    "# fixed_data = prd.fix_initial_data(data_path)\n",
    "data = prd.prepare_all_data(fixed_data_file=os.path.join(DATA_FOLDER, 'fixed.csv'), save=False)"
   ]
  },
  {
   "cell_type": "code",
   "execution_count": 4,
   "metadata": {},
   "outputs": [],
   "source": [
    "# import random\n",
    "# # sample = data.select(range(10 ** 4))\n",
    "# def process_text(text: str) -> str:\n",
    "#     return pr.no_extra_spaces(pr.no_extra_chars(pr.to_lower(text)))\n",
    "\n",
    "# def process_batch(batch: Dict, nlp):\n",
    "#     p = random.random()\n",
    "#     if p < 10 ** -5:\n",
    "#         print(\"really ?\")\n",
    "#     return dict([(k, [process_text(t) for t in v]) for k, v in ({\"source\": pr.uniform_ne_batched(batch['source'], nlp), \n",
    "#                                                                  \"target\": pr.uniform_ne_batched(batch['target'], nlp)}).items()]) \n",
    "\n",
    "# # load the nlp object in advnace\n",
    "# nlp = spacy.load(\"en_core_web_sm\")\n",
    "# processed_data = data.map(lambda b: process_batch(b, nlp), batched=True)"
   ]
  },
  {
   "cell_type": "code",
   "execution_count": 5,
   "metadata": {},
   "outputs": [],
   "source": [
    "# processed_data = processed_data.filter(lambda s: (isinstance(s['source'], str) and isinstance(s['target'], str)))\n",
    "# # save the data\n",
    "# processed_data.to_csv(os.path.join(DATA_FOLDER, 'all_data_processed.csv'), index=False)"
   ]
  },
  {
   "cell_type": "code",
   "execution_count": 6,
   "metadata": {},
   "outputs": [
    {
     "name": "stderr",
     "output_type": "stream",
     "text": [
      "Downloading data files: 100%|██████████| 1/1 [00:00<00:00, 13486.51it/s]\n",
      "Extracting data files: 100%|██████████| 1/1 [00:00<00:00, 723.28it/s]\n",
      "Generating train split: 597521 examples [00:00, 790267.72 examples/s]\n",
      "Filter: 100%|██████████| 597521/597521 [00:01<00:00, 552869.66 examples/s]\n"
     ]
    }
   ],
   "source": [
    "from datasets import load_dataset\n",
    "processed_data = load_dataset(\"csv\", data_files=os.path.join(DATA_FOLDER, \"all_data_processed.csv\"), split='train')\n",
    "processed_data = processed_data.filter(lambda s: (isinstance(s['source'], str) and isinstance(s['target'], str)))"
   ]
  },
  {
   "cell_type": "code",
   "execution_count": 7,
   "metadata": {},
   "outputs": [
    {
     "name": "stderr",
     "output_type": "stream",
     "text": [
      "Map: 100%|██████████| 597519/597519 [01:05<00:00, 9102.76 examples/s]\n"
     ]
    },
    {
     "name": "stdout",
     "output_type": "stream",
     "text": [
      "8021 non alpha tokens\n"
     ]
    }
   ],
   "source": [
    "# let's take a small smaple of 10000 rows\n",
    "from src.toxicity_scores import n_grams as ng\n",
    "import importlib\n",
    "importlib.reload(ng)\n",
    "# sample = processed_data.select(range(10 ** 4))\n",
    "uni, bi = ng.build_unigram_counter(processed_data)\n",
    "ignore_map = ng.build_ignore_toxic_map(0.1, pr.standard_stop_words())\n",
    "# ignore_map"
   ]
  },
  {
   "cell_type": "code",
   "execution_count": 8,
   "metadata": {},
   "outputs": [],
   "source": [
    "u, b = dict([(k, (v[\"source\"] + 1) / (v[\"target\"] + 1)) for k, v in uni.items()]) , dict([(k, (v[\"source\"] + 1) / (v[\"target\"] + 1)) for k, v in bi.items()]) "
   ]
  },
  {
   "cell_type": "code",
   "execution_count": 33,
   "metadata": {},
   "outputs": [
    {
     "data": {
      "text/plain": [
       "(0.07776813343654909, 0.09865210318382524, 0.01777829421333953)"
      ]
     },
     "execution_count": 33,
     "metadata": {},
     "output_type": "execute_result"
    }
   ],
   "source": [
    "from empiricaldist import Cdf\n",
    "\n",
    "u_scores = [v for k, v in u.items()]\n",
    "bi_scores = [v for k, v in b.items()]\n",
    "\n",
    "cdf_u = Cdf.from_seq(u_scores)\n",
    "cdf_b = Cdf.from_seq(bi_scores)\n",
    "\n",
    "toxicity_threshold_u = cdf_u.forward(0.4).item()\n",
    "toxicity_threshold_bi = cdf_b.forward(0.4).item()\n",
    "default_toxicitiy = cdf_u.forward(0.2).item()\n",
    "toxicity_threshold_bi, toxicity_threshold_u, default_toxicitiy\n"
   ]
  },
  {
   "cell_type": "code",
   "execution_count": 28,
   "metadata": {},
   "outputs": [
    {
     "name": "stdout",
     "output_type": "stream",
     "text": [
      "{'hate', 'face'}\n"
     ]
    }
   ],
   "source": [
    "importlib.reload(ng)\n",
    "s = \"I hate your face !!\"  \n",
    "res = ng.get_toxicity_attributes(s, \n",
    "                                 uni_threshold=toxicity_threshold_u, \n",
    "                                 bi_threshold=toxicity_threshold_bi, \n",
    "                                 uni_gram=u, \n",
    "                                 bi_gram=b, \n",
    "                                 default_toxicity=default_toxicitiy)\n",
    "\n",
    "\n",
    "print(res)"
   ]
  },
  {
   "cell_type": "code",
   "execution_count": 29,
   "metadata": {},
   "outputs": [],
   "source": [
    "ls = pr.lemmatize(s)\n",
    "# replace them with mask tokens\n",
    "# pass it to a pretrained model.\n",
    "# masked sentence \n",
    "    "
   ]
  },
  {
   "cell_type": "code",
   "execution_count": 38,
   "metadata": {},
   "outputs": [
    {
     "data": {
      "text/plain": [
       "'[MASK]'"
      ]
     },
     "execution_count": 38,
     "metadata": {},
     "output_type": "execute_result"
    }
   ],
   "source": [
    "from transformers import AutoModelForMaskedLM, AutoTokenizer, pipeline\n",
    "ckpnt = \"distilbert-base-uncased\"\n",
    "\n",
    "mask_filler = pipeline(\"fill-mask\", ckpnt)\n",
    "# bert = AutoModelForMaskedLM.from_pretrained(ckpnt)\n",
    "bert_tokenizer = AutoTokenizer.from_pretrained(ckpnt)\n",
    "bert_tokenizer.mask_token"
   ]
  },
  {
   "cell_type": "code",
   "execution_count": 42,
   "metadata": {},
   "outputs": [
    {
     "name": "stdout",
     "output_type": "stream",
     "text": [
      "[{'score': 0.16346710920333862, 'token': 2572, 'token_str': 'am', 'sequence': '[CLS] i am your [MASK]!! [SEP]'}, {'score': 0.06906559318304062, 'token': 2293, 'token_str': 'love', 'sequence': '[CLS] i love your [MASK]!! [SEP]'}, {'score': 0.04854947701096535, 'token': 11693, 'token_str': 'beg', 'sequence': '[CLS] i beg your [MASK]!! [SEP]'}, {'score': 0.02307771146297455, 'token': 10312, 'token_str': 'stole', 'sequence': '[CLS] i stole your [MASK]!! [SEP]'}, {'score': 0.022854004055261612, 'token': 2215, 'token_str': 'want', 'sequence': '[CLS] i want your [MASK]!! [SEP]'}]\n"
     ]
    }
   ],
   "source": [
    "masked_ls = \" \".join([(c if c not in res else bert_tokenizer.mask_token) for c in ls])\n",
    "masked_ls\n",
    "output = mask_filler(masked_ls, top_k=5)\n",
    "print(output[0])\n"
   ]
  },
  {
   "cell_type": "code",
   "execution_count": 9,
   "metadata": {},
   "outputs": [
    {
     "data": {
      "text/plain": [
       "[0, 2.6141357727491576, 2.672540279138736]"
      ]
     },
     "execution_count": 9,
     "metadata": {},
     "output_type": "execute_result"
    }
   ],
   "source": [
    "importlib.reload(ng)\n",
    "s = \"Are you a nice person ?\"\n",
    "ids = ng._prepare_sentence(s, pr.standard_stop_words())\n",
    "ng.indices_toxicity_score(indices=ids, ignore_map=ignore_map, uni_gram=u, bi_gram=b, default_toxicity=0.1)"
   ]
  },
  {
   "cell_type": "code",
   "execution_count": 10,
   "metadata": {},
   "outputs": [],
   "source": [
    "from transformers import AutoTokenizer, DistilBertModel\n",
    "bert_tokenizer = AutoTokenizer.from_pretrained(\"distilbert-base-uncased\")\n",
    "bert = DistilBertModel.from_pretrained(\"distilbert-base-uncased\")\n",
    "# bert_tokenizer.convert_ids_to_tokens([6583, 2131])"
   ]
  },
  {
   "cell_type": "code",
   "execution_count": 11,
   "metadata": {},
   "outputs": [],
   "source": [
    "import pickle\n",
    "with open(os.path.join(PARENT_DIR, 'src', 'toxicity_scores', 'uni_gram.pk'), 'rb') as f:\n",
    "    counter_loaded = pickle.load(f) "
   ]
  }
 ],
 "metadata": {
  "kernelspec": {
   "display_name": "env",
   "language": "python",
   "name": "python3"
  },
  "language_info": {
   "codemirror_mode": {
    "name": "ipython",
    "version": 3
   },
   "file_extension": ".py",
   "mimetype": "text/x-python",
   "name": "python",
   "nbconvert_exporter": "python",
   "pygments_lexer": "ipython3",
   "version": "3.11.5"
  }
 },
 "nbformat": 4,
 "nbformat_minor": 2
}
