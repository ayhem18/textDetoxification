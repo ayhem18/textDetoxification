{
 "cells": [
  {
   "cell_type": "code",
   "execution_count": 16,
   "metadata": {},
   "outputs": [],
   "source": [
    "import os, sys\n",
    "from pathlib import Path\n",
    "from typing import Dict, Tuple, List\n",
    "import spacy\n",
    "\n",
    "HOME = os.getcwd()\n",
    "DATA_FOLDER = os.path.join(Path(HOME).parent, 'data')\n",
    "data_path = os.path.join(DATA_FOLDER, 'filtered.tsv')"
   ]
  },
  {
   "cell_type": "code",
   "execution_count": 17,
   "metadata": {},
   "outputs": [],
   "source": [
    "current = HOME \n",
    "while 'src' not in os.listdir(current):\n",
    "    current = Path(current).parent\n",
    "\n",
    "PARENT_DIR = current\n",
    "\n",
    "sys.path.append(str(current))\n",
    "sys.path.append(os.path.join(str(current), 'data_analysis'))\n",
    "sys.path.append(os.path.join(str(current), 'evaluation'))\n",
    "sys.path.append(os.path.join(str(current), 'text_processing'))"
   ]
  },
  {
   "cell_type": "code",
   "execution_count": 18,
   "metadata": {},
   "outputs": [],
   "source": [
    "# let's first fix the data \n",
    "import src.text_processing.preprocess as pr\n",
    "import src.data_preparation.prepare_data as prd \n",
    "# fixed_data = prd.fix_initial_data(data_path)\n",
    "data = prd.prepare_all_data(fixed_data_file=os.path.join(DATA_FOLDER, 'fixed.csv'), save=False)"
   ]
  },
  {
   "cell_type": "code",
   "execution_count": 21,
   "metadata": {},
   "outputs": [],
   "source": [
    "sample = data.select(range(10 ** 4))\n",
    "def process_text(text: str) -> str:\n",
    "    return pr.no_extra_spaces(pr.no_extra_chars(pr.to_lower(text)))\n",
    "\n",
    "def process_batch(batch: Dict, nlp):\n",
    "    return dict([(k, [process_text(t) for t in v]) for k, v in ({\"source\": pr.uniform_ne_batched(batch['source'], nlp), \n",
    "                                                                 \"target\": pr.uniform_ne_batched(batch['target'], nlp)}).items()]) \n",
    "\n",
    "# load the nlp object in advnace\n",
    "# nlp = spacy.load(\"en_core_web_sm\")\n",
    "# processed_data = data.map(lambda b: process_batch(b, nlp), batched=True)\n",
    "# # save the data\n",
    "# processed_data.to_csv(os.path.join(DATA_FOLDER, 'all_data_processed.csv'), index=False)"
   ]
  },
  {
   "cell_type": "code",
   "execution_count": 22,
   "metadata": {},
   "outputs": [
    {
     "name": "stderr",
     "output_type": "stream",
     "text": [
      "Filter: 100%|██████████| 597521/597521 [00:01<00:00, 547500.16 examples/s]\n"
     ]
    }
   ],
   "source": [
    "from datasets import load_dataset\n",
    "processed_data = load_dataset(\"csv\", data_files=os.path.join(DATA_FOLDER, \"all_data_processed.csv\"), split='train')\n",
    "# make sure all the data is 'string' format\n",
    "processed_data = processed_data.filter(lambda s: (isinstance(s['source'], str) and isinstance(s['target'], str)))"
   ]
  },
  {
   "cell_type": "code",
   "execution_count": 23,
   "metadata": {},
   "outputs": [
    {
     "name": "stderr",
     "output_type": "stream",
     "text": [
      "Map: 100%|██████████| 597519/597519 [01:24<00:00, 7064.64 examples/s]\n"
     ]
    },
    {
     "name": "stdout",
     "output_type": "stream",
     "text": [
      "8021 non alpha tokens\n"
     ]
    }
   ],
   "source": [
    "# let's take a small smaple of 10000 rows\n",
    "from src.toxicity_scores import n_grams as ng\n",
    "import importlib\n",
    "importlib.reload(ng)\n",
    "# sample = processed_data.select(range(10 ** 4))\n",
    "uni, bi = ng.build_unigram_counter(processed_data)\n",
    "ignore_map = ng.build_ignore_toxic_map(0.1, pr.standard_stop_words())\n",
    "# ignore_map"
   ]
  },
  {
   "cell_type": "code",
   "execution_count": 24,
   "metadata": {},
   "outputs": [],
   "source": [
    "u, b = dict([(k, (v[\"source\"] + 1) / (v[\"target\"] + 1)) for k, v in uni.items()]) , dict([(k, (v[\"source\"] + 1) / (v[\"target\"] + 1)) for k, v in bi.items()]) "
   ]
  },
  {
   "cell_type": "code",
   "execution_count": 1,
   "metadata": {},
   "outputs": [
    {
     "ename": "NameError",
     "evalue": "name 'importlib' is not defined",
     "output_type": "error",
     "traceback": [
      "\u001b[0;31m---------------------------------------------------------------------------\u001b[0m",
      "\u001b[0;31mNameError\u001b[0m                                 Traceback (most recent call last)",
      "\u001b[1;32m/home/ayhem18/DEV/TextDetoxification/src/data_preparation/exp.ipynb Cell 8\u001b[0m line \u001b[0;36m1\n\u001b[0;32m----> <a href='vscode-notebook-cell:/home/ayhem18/DEV/TextDetoxification/src/data_preparation/exp.ipynb#X12sZmlsZQ%3D%3D?line=0'>1</a>\u001b[0m importlib\u001b[39m.\u001b[39mreload(ng)\n\u001b[1;32m      <a href='vscode-notebook-cell:/home/ayhem18/DEV/TextDetoxification/src/data_preparation/exp.ipynb#X12sZmlsZQ%3D%3D?line=1'>2</a>\u001b[0m s \u001b[39m=\u001b[39m \u001b[39m\"\u001b[39m\u001b[39mAre you a nice person ?\u001b[39m\u001b[39m\"\u001b[39m\n\u001b[1;32m      <a href='vscode-notebook-cell:/home/ayhem18/DEV/TextDetoxification/src/data_preparation/exp.ipynb#X12sZmlsZQ%3D%3D?line=2'>3</a>\u001b[0m ids \u001b[39m=\u001b[39m ng\u001b[39m.\u001b[39m_prepare_sentence(s, pr\u001b[39m.\u001b[39mstandard_stop_words())\n",
      "\u001b[0;31mNameError\u001b[0m: name 'importlib' is not defined"
     ]
    }
   ],
   "source": [
    "importlib.reload(ng)\n",
    "s = \"Are you a nice person ?\"\n",
    "ids = ng._prepare_sentence(s, pr.standard_stop_words())\n",
    "ng.indices_toxicity_score(indices=ids, ignore_map=ignore_map, uni_gram=u, bi_gram=b, default_toxicity=0.1)"
   ]
  },
  {
   "cell_type": "code",
   "execution_count": null,
   "metadata": {},
   "outputs": [
    {
     "data": {
      "text/plain": [
       "['na', 'get']"
      ]
     },
     "execution_count": 12,
     "metadata": {},
     "output_type": "execute_result"
    }
   ],
   "source": [
    "from transformers import AutoTokenizer, DistilBertModel\n",
    "bert_tokenizer = AutoTokenizer.from_pretrained(\"distilbert-base-uncased\")\n",
    "bert = DistilBertModel.from_pretrained(\"distilbert-base-uncased\")\n",
    "# bert_tokenizer.convert_ids_to_tokens([6583, 2131])"
   ]
  },
  {
   "cell_type": "code",
   "execution_count": null,
   "metadata": {},
   "outputs": [],
   "source": [
    "import pickle\n",
    "with open(os.path.join(PARENT_DIR, 'src', 'toxicity_scores', 'uni_gram.pk'), 'rb') as f:\n",
    "    counter_loaded = pickle.load(f) "
   ]
  },
  {
   "cell_type": "code",
   "execution_count": null,
   "metadata": {},
   "outputs": [],
   "source": []
  }
 ],
 "metadata": {
  "kernelspec": {
   "display_name": "env",
   "language": "python",
   "name": "python3"
  },
  "language_info": {
   "codemirror_mode": {
    "name": "ipython",
    "version": 3
   },
   "file_extension": ".py",
   "mimetype": "text/x-python",
   "name": "python",
   "nbconvert_exporter": "python",
   "pygments_lexer": "ipython3",
   "version": "3.11.5"
  }
 },
 "nbformat": 4,
 "nbformat_minor": 2
}
