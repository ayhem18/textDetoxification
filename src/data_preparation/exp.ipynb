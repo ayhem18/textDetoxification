{
 "cells": [
  {
   "cell_type": "code",
   "execution_count": 1,
   "metadata": {},
   "outputs": [],
   "source": [
    "import os, sys\n",
    "from pathlib import Path\n",
    "from typing import Dict, Tuple, List\n",
    "import spacy\n",
    "\n",
    "HOME = os.getcwd()\n",
    "DATA_FOLDER = os.path.join(Path(HOME).parent, 'data')\n",
    "data_path = os.path.join(DATA_FOLDER, 'filtered.tsv')"
   ]
  },
  {
   "cell_type": "code",
   "execution_count": 2,
   "metadata": {},
   "outputs": [],
   "source": [
    "current = HOME \n",
    "while 'src' not in os.listdir(current):\n",
    "    current = Path(current).parent\n",
    "\n",
    "PARENT_DIR = current\n",
    "\n",
    "sys.path.append(str(current))\n",
    "sys.path.append(os.path.join(str(current), 'data_analysis'))\n",
    "sys.path.append(os.path.join(str(current), 'evaluation'))\n",
    "sys.path.append(os.path.join(str(current), 'text_processing'))"
   ]
  },
  {
   "cell_type": "code",
   "execution_count": 3,
   "metadata": {},
   "outputs": [
    {
     "name": "stderr",
     "output_type": "stream",
     "text": [
      "/home/ayhem18/DEV/TextDetoxification/env/lib/python3.11/site-packages/tqdm/auto.py:22: TqdmWarning: IProgress not found. Please update jupyter and ipywidgets. See https://ipywidgets.readthedocs.io/en/stable/user_install.html\n",
      "  from .autonotebook import tqdm as notebook_tqdm\n"
     ]
    }
   ],
   "source": [
    "# let's first fix the data \n",
    "import src.text_processing.preprocess as pr\n",
    "import src.data_preparation.prepare_data as prd \n",
    "# fixed_data = prd.fix_initial_data(data_path)\n",
    "data = prd.prepare_all_data(fixed_data_file=os.path.join(DATA_FOLDER, 'fixed.csv'), save=False)"
   ]
  },
  {
   "cell_type": "code",
   "execution_count": 7,
   "metadata": {},
   "outputs": [
    {
     "name": "stderr",
     "output_type": "stream",
     "text": [
      "Map:   0%|          | 0/597521 [00:00<?, ? examples/s]/home/ayhem18/DEV/TextDetoxification/env/lib/python3.11/site-packages/spacy/pipeline/lemmatizer.py:211: UserWarning: [W108] The rule-based lemmatizer did not find POS annotation for one or more tokens. Check that your pipeline includes components that assign token.pos, typically 'tagger'+'attribute_ruler' or 'morphologizer'.\n",
      "  warnings.warn(Warnings.W108)\n",
      "Map: 100%|██████████| 597521/597521 [13:23<00:00, 743.35 examples/s]\n"
     ]
    }
   ],
   "source": [
    "import random\n",
    "# sample = data.select(range(10 ** 4))\n",
    "def process_text(text: str) -> str:\n",
    "    return pr.no_extra_spaces(pr.no_extra_chars(pr.to_lower(text)))\n",
    "\n",
    "def process_batch(batch: Dict, nlp):\n",
    "    p = random.random()\n",
    "    if p < 10 ** -5:\n",
    "        print(\"really ?\")\n",
    "    return dict([(k, [process_text(t) for t in v]) for k, v in ({\"source\": pr.uniform_ne_batched(batch['source'], nlp), \n",
    "                                                                 \"target\": pr.uniform_ne_batched(batch['target'], nlp)}).items()]) \n",
    "\n",
    "# load the nlp object in advnace\n",
    "nlp = spacy.load(\"en_core_web_sm\")\n",
    "processed_data = data.map(lambda b: process_batch(b, nlp), batched=True)"
   ]
  },
  {
   "cell_type": "code",
   "execution_count": 8,
   "metadata": {},
   "outputs": [
    {
     "name": "stderr",
     "output_type": "stream",
     "text": [
      "Filter: 100%|██████████| 597521/597521 [00:01<00:00, 527268.40 examples/s]\n",
      "Creating CSV from Arrow format: 100%|██████████| 598/598 [00:02<00:00, 248.98ba/s]\n"
     ]
    },
    {
     "data": {
      "text/plain": [
       "66239110"
      ]
     },
     "execution_count": 8,
     "metadata": {},
     "output_type": "execute_result"
    }
   ],
   "source": [
    "processed_data = processed_data.filter(lambda s: (isinstance(s['source'], str) and isinstance(s['target'], str)))\n",
    "# save the data\n",
    "processed_data.to_csv(os.path.join(DATA_FOLDER, 'all_data_processed.csv'), index=False)"
   ]
  },
  {
   "cell_type": "code",
   "execution_count": null,
   "metadata": {},
   "outputs": [],
   "source": [
    "from datasets import load_dataset\n",
    "processed_data = load_dataset(\"csv\", data_files=os.path.join(DATA_FOLDER, \"all_data_processed.csv\"), split='train')"
   ]
  },
  {
   "cell_type": "code",
   "execution_count": null,
   "metadata": {},
   "outputs": [],
   "source": [
    "# let's take a small smaple of 10000 rows\n",
    "from src.toxicity_scores import n_grams as ng\n",
    "import importlib\n",
    "importlib.reload(ng)\n",
    "# sample = processed_data.select(range(10 ** 4))\n",
    "uni, bi = ng.build_unigram_counter(processed_data)\n",
    "ignore_map = ng.build_ignore_toxic_map(0.1, pr.standard_stop_words())\n",
    "# ignore_map"
   ]
  },
  {
   "cell_type": "code",
   "execution_count": null,
   "metadata": {},
   "outputs": [],
   "source": [
    "u, b = dict([(k, (v[\"source\"] + 1) / (v[\"target\"] + 1)) for k, v in uni.items()]) , dict([(k, (v[\"source\"] + 1) / (v[\"target\"] + 1)) for k, v in bi.items()]) "
   ]
  },
  {
   "cell_type": "code",
   "execution_count": null,
   "metadata": {},
   "outputs": [],
   "source": [
    "importlib.reload(ng)\n",
    "s = \"Are you a nice person ?\"\n",
    "ids = ng._prepare_sentence(s, pr.standard_stop_words())\n",
    "ng.indices_toxicity_score(indices=ids, ignore_map=ignore_map, uni_gram=u, bi_gram=b, default_toxicity=0.1)"
   ]
  },
  {
   "cell_type": "code",
   "execution_count": null,
   "metadata": {},
   "outputs": [],
   "source": [
    "from transformers import AutoTokenizer, DistilBertModel\n",
    "bert_tokenizer = AutoTokenizer.from_pretrained(\"distilbert-base-uncased\")\n",
    "bert = DistilBertModel.from_pretrained(\"distilbert-base-uncased\")\n",
    "# bert_tokenizer.convert_ids_to_tokens([6583, 2131])"
   ]
  },
  {
   "cell_type": "code",
   "execution_count": null,
   "metadata": {},
   "outputs": [],
   "source": [
    "import pickle\n",
    "with open(os.path.join(PARENT_DIR, 'src', 'toxicity_scores', 'uni_gram.pk'), 'rb') as f:\n",
    "    counter_loaded = pickle.load(f) "
   ]
  }
 ],
 "metadata": {
  "kernelspec": {
   "display_name": "env",
   "language": "python",
   "name": "python3"
  },
  "language_info": {
   "codemirror_mode": {
    "name": "ipython",
    "version": 3
   },
   "file_extension": ".py",
   "mimetype": "text/x-python",
   "name": "python",
   "nbconvert_exporter": "python",
   "pygments_lexer": "ipython3",
   "version": "3.11.5"
  }
 },
 "nbformat": 4,
 "nbformat_minor": 2
}
