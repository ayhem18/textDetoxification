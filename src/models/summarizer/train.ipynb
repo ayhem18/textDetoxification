{
 "cells": [
  {
   "cell_type": "markdown",
   "metadata": {},
   "source": [
    "# Imports and Data Loading"
   ]
  },
  {
   "cell_type": "code",
   "execution_count": 41,
   "metadata": {},
   "outputs": [],
   "source": [
    "# the notebook's main objective is to filter and prepare the dataset to train a summarizer on it.\n",
    "import os, sys\n",
    "from pathlib import Path\n",
    "HOME = os.getcwd()\n",
    "\n",
    "current = HOME \n",
    "while 'src' not in os.listdir(current):\n",
    "    current = Path(current).parent\n",
    "\n",
    "PARENT_DIR = str(current)\n",
    "DATA_FOLDER = os.path.join(PARENT_DIR, 'src', 'data')\n",
    "data_path = os.path.join(DATA_FOLDER, 'filtered.tsv')\n",
    "sys.path.append(str(current))\n",
    "sys.path.append(os.path.join(str(current), 'data_analysis'))\n",
    "sys.path.append(os.path.join(str(current), 'evaluation'))\n",
    "sys.path.append(os.path.join(str(current), 'text_processing'))\n",
    "sys.path.append(os.path.join(str(current), 'models'))"
   ]
  },
  {
   "cell_type": "code",
   "execution_count": 42,
   "metadata": {},
   "outputs": [],
   "source": [
    "from datasets import load_dataset\n",
    "all_data = load_dataset('csv', data_files=os.path.join(DATA_FOLDER, 'all_data_processed.csv'), split='train')\n",
    "all_data = all_data.filter(lambda s: (isinstance(s['source'], str) and isinstance(s['target'], str)))"
   ]
  },
  {
   "cell_type": "code",
   "execution_count": 43,
   "metadata": {},
   "outputs": [
    {
     "data": {
      "text/plain": [
       "Dataset({\n",
       "    features: ['source', 'target'],\n",
       "    num_rows: 597519\n",
       "})"
      ]
     },
     "execution_count": 43,
     "metadata": {},
     "output_type": "execute_result"
    }
   ],
   "source": [
    "all_data"
   ]
  },
  {
   "cell_type": "code",
   "execution_count": 44,
   "metadata": {},
   "outputs": [
    {
     "name": "stderr",
     "output_type": "stream",
     "text": [
      "Creating CSV from Arrow format:   0%|          | 0/277 [00:00<?, ?ba/s]"
     ]
    },
    {
     "name": "stderr",
     "output_type": "stream",
     "text": [
      "Creating CSV from Arrow format: 100%|██████████| 277/277 [00:01<00:00, 239.18ba/s]\n"
     ]
    },
    {
     "data": {
      "text/plain": [
       "31406141"
      ]
     },
     "execution_count": 44,
     "metadata": {},
     "output_type": "execute_result"
    }
   ],
   "source": [
    "from src.text_processing import preprocess as pr\n",
    "# the next step is to filter the dataset\n",
    "def filter_data(sample):\n",
    "    \"\"\"This function receives  a batch of samples from the original data and filters those whose 'source' text is shorter than the 'target' text.\"\"\"\n",
    "    # first tokenize each 'source' and 'target' fields\n",
    "    source = pr.tokenize(sample['source'], tokenizer_type='word')\n",
    "    target = pr.tokenize(sample['target'], tokenizer_type='word')\n",
    "    return len(source) > len(target)\n",
    "\n",
    "summary_data = all_data.filter(filter_data)\n",
    "# save the data\n",
    "summary_data.to_csv(os.path.join(DATA_FOLDER, 'summarized_data.csv'), index=False)"
   ]
  },
  {
   "cell_type": "code",
   "execution_count": 45,
   "metadata": {},
   "outputs": [],
   "source": [
    "import src.data_preparation.prepare_data as pdr\n",
    "sample = summary_data.select(range(5000))\n",
    "train_data, val_data, test_data = pdr.data_split(all_data=sample)"
   ]
  },
  {
   "cell_type": "markdown",
   "metadata": {},
   "source": [
    "# DataLoaders"
   ]
  },
  {
   "cell_type": "code",
   "execution_count": 46,
   "metadata": {},
   "outputs": [],
   "source": [
    "# the next step is to tokenize the data  \n",
    "import torch\n",
    "from transformers import AutoModelForSeq2SeqLM, AutoTokenizer\n",
    "CHECKPOINT = 't5-small'\n",
    "DEVICE = 'cuda' if torch.cuda.is_available() else 'cpu'\n",
    "TOKENIZER = AutoTokenizer.from_pretrained(CHECKPOINT)\n",
    "MODEL = AutoModelForSeq2SeqLM.from_pretrained(CHECKPOINT).to(DEVICE)"
   ]
  },
  {
   "cell_type": "code",
   "execution_count": 47,
   "metadata": {},
   "outputs": [],
   "source": [
    "TASK_PREFIX = 'summarize: '\n",
    "\n",
    "def prepare_labeled_data(batch):\n",
    "    # add the task predix to each sentence\n",
    "    inputs = [TASK_PREFIX + doc for doc in batch[\"source\"]]\n",
    "    # tokenize 'x'\n",
    "    model_inputs = TOKENIZER(inputs, truncation=True, max_length=1028)\n",
    "    # tokenize 'y'  \n",
    "    labels = TOKENIZER(text_target=batch[\"target\"], truncation=True)\n",
    "    # add it to the model's input\n",
    "    model_inputs[\"labels\"] = labels[\"input_ids\"]\n",
    "    return model_inputs"
   ]
  },
  {
   "cell_type": "code",
   "execution_count": 48,
   "metadata": {},
   "outputs": [],
   "source": [
    "train_data = train_data.map(prepare_labeled_data, batched=True).remove_columns(['source', 'target'])\n",
    "val_data = val_data.map(prepare_labeled_data, batched=True).remove_columns(['source', 'target'])"
   ]
  },
  {
   "cell_type": "code",
   "execution_count": 49,
   "metadata": {},
   "outputs": [],
   "source": [
    "# create a DataCollator for padding for the sequence to sequence models\n",
    "from transformers import DataCollatorForSeq2Seq\n",
    "data_collator = DataCollatorForSeq2Seq(tokenizer=TOKENIZER, model=CHECKPOINT)\n",
    "# we are now ready to create the dataloader\n",
    "from torch.utils.data import DataLoader\n",
    "train_dl = DataLoader(dataset=train_data, batch_size=4, shuffle=True, collate_fn=data_collator)\n",
    "val_dl = DataLoader(dataset=val_data, batch_size=4, shuffle=False, collate_fn=data_collator)"
   ]
  },
  {
   "cell_type": "code",
   "execution_count": 50,
   "metadata": {},
   "outputs": [
    {
     "name": "stderr",
     "output_type": "stream",
     "text": [
      "You're using a T5TokenizerFast tokenizer. Please note that with a fast tokenizer, using the `__call__` method is faster than using a method to encode the text followed by a call to the `pad` method to get a padded encoding.\n"
     ]
    }
   ],
   "source": [
    "# make sure the data is loaded correctly\n",
    "b1, b2 = next(iter(train_dl)), next(iter(val_dl))"
   ]
  },
  {
   "cell_type": "markdown",
   "metadata": {},
   "source": [
    "# Model Training"
   ]
  },
  {
   "cell_type": "markdown",
   "metadata": {},
   "source": [
    "## Training Code"
   ]
  },
  {
   "cell_type": "markdown",
   "metadata": {},
   "source": [
    "## Train utilities"
   ]
  },
  {
   "cell_type": "code",
   "execution_count": 51,
   "metadata": {},
   "outputs": [],
   "source": [
    "from src.evaluation import toxicity_classication as tc\n",
    "singleton_obj = tc.EvalutionSingletonInitializer()\n",
    "tx_classifier, tx_tokenizer, tx_device = singleton_obj.get_toxic_classifier(), singleton_obj.get_toxic_tokenizer(), singleton_obj.get_device()\n",
    "# let's define some of the training parameters\n",
    "from torch.optim import Adam\n",
    "from torch.optim.lr_scheduler import LinearLR\n",
    "\n",
    "# lr: the same as the one used in the/home/ayhem18/DEV/My_Kaggle_Repo/pytorch_modular/pytorch_utilities.py\n",
    "optimizer = Adam(MODEL.parameters(), lr=2 * 10 ** -5)\n",
    "scheduler = LinearLR(optimizer=optimizer, start_factor=1, end_factor=0.5,total_iters=100)"
   ]
  },
  {
   "cell_type": "code",
   "execution_count": 52,
   "metadata": {},
   "outputs": [],
   "source": [
    "# let's write a function to compute the summarization + toxicity loss\n",
    "from src.evaluation.toxicity_classication import EvalutionSingletonInitializer\n",
    "from torch.nn.functional import softmax\n",
    "from typing import Union\n",
    "\n",
    "def toxic_summary_model_loss(output_decoded: torch.Tensor, \n",
    "                             device,\n",
    "                             return_tensor: bool=False) -> Union[float, torch.Tensor]:\n",
    "    \n",
    "    singleton_obj = EvalutionSingletonInitializer()\n",
    "    tc_tokenizer, tc_classifier = singleton_obj.get_toxic_tokenizer(), singleton_obj.get_toxic_classifier()\n",
    "\n",
    "    # make sure to freeze their parameters\n",
    "    for p in tc_classifier.parameters():\n",
    "        p.requires_grad = False\n",
    "\n",
    "    tc_classifier.to(device)\n",
    "    # tokenize\n",
    "    model_input = tc_tokenizer(output_decoded, return_tensors='pt', padding=True, truncation=True)\n",
    "    # set the input to the device\n",
    "    model_input = {k: v.to(device) for k, v in model_input.items()}\n",
    "    # pass through the model\n",
    "    output = tc_classifier(**model_input)\n",
    "    \n",
    "    loss = torch.mean(softmax(output.logits, dim=1)[:, 1])\n",
    "    \n",
    "    if return_tensor: \n",
    "        loss.requires_grad=True\n",
    "        return loss\n",
    "    \n",
    "    return loss.item()\n"
   ]
  },
  {
   "cell_type": "code",
   "execution_count": 53,
   "metadata": {},
   "outputs": [
    {
     "name": "stdout",
     "output_type": "stream",
     "text": [
      "[INFO] Created SummaryWriter, saving to: /home/ayhem18/DEV/TextDetoxification/src/data_analysis/runs/experience_3...\n"
     ]
    },
    {
     "name": "stderr",
     "output_type": "stream",
     "text": [
      "  0%|          | 0/20 [00:00<?, ?it/s]"
     ]
    },
    {
     "name": "stderr",
     "output_type": "stream",
     "text": [
      "/home/ayhem18/DEV/TextDetoxification/env/lib/python3.11/site-packages/transformers/generation/utils.py:1260: UserWarning: Using the model-agnostic default `max_length` (=20) to control the generation length. We recommend setting `max_new_tokens` to control the maximum length of the generation.\n",
      "  warnings.warn(\n",
      "  5%|▌         | 1/20 [00:51<16:18, 51.50s/it]"
     ]
    },
    {
     "name": "stdout",
     "output_type": "stream",
     "text": [
      "Training losses\n",
      "train_loss: 2.058954809506734\n",
      "val_loss: 1.811967327594757\n",
      "val_toxic_loss: 0.4798521736264229\n",
      "##################################################\n",
      "\n"
     ]
    },
    {
     "name": "stderr",
     "output_type": "stream",
     "text": [
      " 10%|█         | 2/20 [01:44<15:43, 52.41s/it]"
     ]
    },
    {
     "name": "stdout",
     "output_type": "stream",
     "text": [
      "Training losses\n",
      "train_loss: 1.853737468868494\n",
      "val_loss: 1.7395953011512757\n",
      "val_toxic_loss: 0.43860718846321106\n",
      "##################################################\n",
      "\n"
     ]
    },
    {
     "name": "stderr",
     "output_type": "stream",
     "text": [
      " 15%|█▌        | 3/20 [02:37<14:55, 52.66s/it]"
     ]
    },
    {
     "name": "stdout",
     "output_type": "stream",
     "text": [
      "Training losses\n",
      "train_loss: 1.7814031597971915\n",
      "val_loss: 1.7094623112678529\n",
      "val_toxic_loss: 0.4199349391274154\n",
      "##################################################\n",
      "\n"
     ]
    },
    {
     "name": "stderr",
     "output_type": "stream",
     "text": [
      " 20%|██        | 4/20 [03:32<14:15, 53.46s/it]"
     ]
    },
    {
     "name": "stdout",
     "output_type": "stream",
     "text": [
      "Training losses\n",
      "train_loss: 1.7202352969845136\n",
      "val_loss: 1.684651005268097\n",
      "val_toxic_loss: 0.407940112259239\n",
      "##################################################\n",
      "\n"
     ]
    },
    {
     "name": "stderr",
     "output_type": "stream",
     "text": [
      " 25%|██▌       | 5/20 [04:25<13:23, 53.54s/it]"
     ]
    },
    {
     "name": "stdout",
     "output_type": "stream",
     "text": [
      "Training losses\n",
      "train_loss: 1.6878443964322407\n",
      "val_loss: 1.6621418690681458\n",
      "val_toxic_loss: 0.34025811709463594\n",
      "##################################################\n",
      "\n"
     ]
    },
    {
     "name": "stderr",
     "output_type": "stream",
     "text": [
      " 30%|███       | 6/20 [05:18<12:22, 53.07s/it]"
     ]
    },
    {
     "name": "stdout",
     "output_type": "stream",
     "text": [
      "Training losses\n",
      "train_loss: 1.6435355252275865\n",
      "val_loss: 1.6507072162628174\n",
      "val_toxic_loss: 0.3387550112465397\n",
      "##################################################\n",
      "\n"
     ]
    },
    {
     "name": "stderr",
     "output_type": "stream",
     "text": [
      " 35%|███▌      | 7/20 [06:10<11:25, 52.76s/it]"
     ]
    },
    {
     "name": "stdout",
     "output_type": "stream",
     "text": [
      "Training losses\n",
      "train_loss: 1.6143817332883676\n",
      "val_loss: 1.6427064394950868\n",
      "val_toxic_loss: 0.33577101639006285\n",
      "##################################################\n",
      "\n"
     ]
    },
    {
     "name": "stderr",
     "output_type": "stream",
     "text": [
      " 40%|████      | 8/20 [07:03<10:35, 52.97s/it]"
     ]
    },
    {
     "name": "stdout",
     "output_type": "stream",
     "text": [
      "Training losses\n",
      "train_loss: 1.5854780339697996\n",
      "val_loss: 1.636137216091156\n",
      "val_toxic_loss: 0.3092331942776218\n",
      "##################################################\n",
      "\n"
     ]
    },
    {
     "name": "stderr",
     "output_type": "stream",
     "text": [
      " 45%|████▌     | 9/20 [07:55<09:40, 52.80s/it]"
     ]
    },
    {
     "name": "stdout",
     "output_type": "stream",
     "text": [
      "Training losses\n",
      "train_loss: 1.5574309329191844\n",
      "val_loss: 1.633069040775299\n",
      "val_toxic_loss: 0.33350867104250936\n",
      "##################################################\n",
      "\n"
     ]
    },
    {
     "name": "stderr",
     "output_type": "stream",
     "text": [
      " 50%|█████     | 10/20 [08:48<08:48, 52.84s/it]"
     ]
    },
    {
     "name": "stdout",
     "output_type": "stream",
     "text": [
      "Training losses\n",
      "train_loss: 1.528621304978927\n",
      "val_loss: 1.6335341763496398\n",
      "val_toxic_loss: 0.3053720067953691\n",
      "##################################################\n",
      "\n"
     ]
    },
    {
     "name": "stderr",
     "output_type": "stream",
     "text": [
      " 55%|█████▌    | 11/20 [09:42<07:57, 53.03s/it]"
     ]
    },
    {
     "name": "stdout",
     "output_type": "stream",
     "text": [
      "Training losses\n",
      "train_loss: 1.5046447436511516\n",
      "val_loss: 1.630578372478485\n",
      "val_toxic_loss: 0.3123217681562528\n",
      "##################################################\n",
      "\n"
     ]
    },
    {
     "name": "stderr",
     "output_type": "stream",
     "text": [
      " 60%|██████    | 12/20 [10:34<07:02, 52.79s/it]"
     ]
    },
    {
     "name": "stdout",
     "output_type": "stream",
     "text": [
      "Training losses\n",
      "train_loss: 1.481734464118878\n",
      "val_loss: 1.6248017978668212\n",
      "val_toxic_loss: 0.3218809970607981\n",
      "##################################################\n",
      "\n"
     ]
    },
    {
     "name": "stderr",
     "output_type": "stream",
     "text": [
      " 65%|██████▌   | 13/20 [11:28<06:12, 53.18s/it]"
     ]
    },
    {
     "name": "stdout",
     "output_type": "stream",
     "text": [
      "Training losses\n",
      "train_loss: 1.46661146124204\n",
      "val_loss: 1.6276494884490966\n",
      "val_toxic_loss: 0.30002808939199893\n",
      "##################################################\n",
      "\n"
     ]
    },
    {
     "name": "stderr",
     "output_type": "stream",
     "text": [
      " 70%|███████   | 14/20 [12:21<05:18, 53.08s/it]"
     ]
    },
    {
     "name": "stdout",
     "output_type": "stream",
     "text": [
      "Training losses\n",
      "train_loss: 1.4381910422692696\n",
      "val_loss: 1.6230375289916992\n",
      "val_toxic_loss: 0.307290983046405\n",
      "##################################################\n",
      "\n"
     ]
    },
    {
     "name": "stderr",
     "output_type": "stream",
     "text": [
      " 75%|███████▌  | 15/20 [13:13<04:24, 52.83s/it]"
     ]
    },
    {
     "name": "stdout",
     "output_type": "stream",
     "text": [
      "Training losses\n",
      "train_loss: 1.4177744600673516\n",
      "val_loss: 1.62771249294281\n",
      "val_toxic_loss: 0.2944334503309801\n",
      "##################################################\n",
      "\n"
     ]
    },
    {
     "name": "stderr",
     "output_type": "stream",
     "text": [
      " 80%|████████  | 16/20 [14:06<03:30, 52.70s/it]"
     ]
    },
    {
     "name": "stdout",
     "output_type": "stream",
     "text": [
      "Training losses\n",
      "train_loss: 1.4031429247558116\n",
      "val_loss: 1.630598373413086\n",
      "val_toxic_loss: 0.28816035486292096\n",
      "##################################################\n",
      "\n"
     ]
    },
    {
     "name": "stderr",
     "output_type": "stream",
     "text": [
      " 85%|████████▌ | 17/20 [14:58<02:37, 52.57s/it]"
     ]
    },
    {
     "name": "stdout",
     "output_type": "stream",
     "text": [
      "Training losses\n",
      "train_loss: 1.3840631944686175\n",
      "val_loss: 1.6306456446647644\n",
      "val_toxic_loss: 0.2935291335778311\n",
      "##################################################\n",
      "\n"
     ]
    },
    {
     "name": "stderr",
     "output_type": "stream",
     "text": [
      " 90%|█████████ | 18/20 [15:50<01:44, 52.31s/it]"
     ]
    },
    {
     "name": "stdout",
     "output_type": "stream",
     "text": [
      "Training losses\n",
      "train_loss: 1.3683720229069392\n",
      "val_loss: 1.6363922333717347\n",
      "val_toxic_loss: 0.2932124473992735\n",
      "##################################################\n",
      "\n"
     ]
    },
    {
     "name": "stderr",
     "output_type": "stream",
     "text": [
      " 95%|█████████▌| 19/20 [16:42<00:52, 52.18s/it]"
     ]
    },
    {
     "name": "stdout",
     "output_type": "stream",
     "text": [
      "Training losses\n",
      "train_loss: 1.3503433749824763\n",
      "val_loss: 1.633616714477539\n",
      "val_toxic_loss: 0.30257517254445704\n",
      "##################################################\n",
      "\n"
     ]
    },
    {
     "name": "stderr",
     "output_type": "stream",
     "text": [
      "100%|██████████| 20/20 [17:33<00:00, 52.69s/it]"
     ]
    },
    {
     "name": "stdout",
     "output_type": "stream",
     "text": [
      "Training losses\n",
      "train_loss: 1.3333475915218393\n",
      "val_loss: 1.6379020452499389\n",
      "val_toxic_loss: 0.3058235085057095\n",
      "##################################################\n",
      "\n"
     ]
    },
    {
     "name": "stderr",
     "output_type": "stream",
     "text": [
      "\n"
     ]
    }
   ],
   "source": [
    "from src.models.summarizer import summarizer  as ss\n",
    "import src.training_utilities.exp_tracking as et\n",
    "import importlib \n",
    "importlib.reload(ss)\n",
    "importlib.reload(et)\n",
    "\n",
    "_, _, best_model = ss.train_custom_summarizer(train_dataloader=train_dl, \n",
    "                                            val_dataloader=val_dl,\n",
    "                                            summary_model=MODEL,\n",
    "                                            summary_tokenizer=TOKENIZER, \n",
    "                                            toxicity_loss_function=toxic_summary_model_loss,\n",
    "                                            toxicity_coeff=0.5, \n",
    "                                            optimizer=optimizer, \n",
    "                                            scheduler=scheduler, \n",
    "                                            num_epochs=20,   \n",
    "                                            report_per_epoch=1,\n",
    "                                            log_dir=os.path.join(HOME, 'runs')\n",
    "                                            )\n"
   ]
  },
  {
   "cell_type": "code",
   "execution_count": 54,
   "metadata": {},
   "outputs": [
    {
     "name": "stdout",
     "output_type": "stream",
     "text": [
      "source: summarize: we don't fear these demons. we destroy them.\n",
      "target: we don't fight demons, we destroy them.\n",
      "generated :we don't fear these demons.\n",
      "####################################################################################################\n",
      "source: summarize: the old witch shook her head.\n",
      "target: she shook her head.\n",
      "generated :the old witch shook her head.\n",
      "####################################################################################################\n",
      "source: summarize: you want me to fucking leave her\n",
      "target: you want to leave it\n",
      "generated :you want me to leave her\n",
      "####################################################################################################\n",
      "source: summarize: why don't you get rid of her before you go, huh\n",
      "target: why not make amends before you leave, huh\n",
      "generated :why don't you get rid of her before you go\n",
      "####################################################################################################\n",
      "source: summarize: darn it. fractions are so hard.\n",
      "target: fractions are so heavy.\n",
      "generated :fractions are so hard.\n",
      "####################################################################################################\n"
     ]
    }
   ],
   "source": [
    "for i in range(0, len(val_data), 20):\n",
    "    input_ids = val_data[i]['input_ids']\n",
    "    attention_mask = val_data[i]['attention_mask']\n",
    "    labels = val_data[i]['labels']\n",
    "\n",
    "    print(f\"source: {TOKENIZER.decode(input_ids, skip_special_tokens=True)}\")\n",
    "    print(f\"target: {TOKENIZER.decode(labels, skip_special_tokens=True)}\")\n",
    "\n",
    "    outputs = best_model.generate(\n",
    "        input_ids=torch.tensor(input_ids).unsqueeze(0).to('cuda'),\n",
    "        attention_mask=torch.tensor(attention_mask).unsqueeze(0).to('cuda'),\n",
    "        max_length=512,\n",
    "        num_beams=5,\n",
    "        early_stopping=True\n",
    "    )\n",
    "\n",
    "    print(f\"generated :{TOKENIZER.decode(outputs[0], skip_special_tokens=True)}\")\n",
    "    print(\"#\" * 100)\n"
   ]
  },
  {
   "cell_type": "code",
   "execution_count": null,
   "metadata": {},
   "outputs": [],
   "source": []
  }
 ],
 "metadata": {
  "kernelspec": {
   "display_name": "env",
   "language": "python",
   "name": "python3"
  },
  "language_info": {
   "codemirror_mode": {
    "name": "ipython",
    "version": 3
   },
   "file_extension": ".py",
   "mimetype": "text/x-python",
   "name": "python",
   "nbconvert_exporter": "python",
   "pygments_lexer": "ipython3",
   "version": "3.11.5"
  }
 },
 "nbformat": 4,
 "nbformat_minor": 2
}
