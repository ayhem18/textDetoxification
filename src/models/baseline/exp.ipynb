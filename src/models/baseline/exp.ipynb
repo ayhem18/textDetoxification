{
 "cells": [
  {
   "cell_type": "code",
   "execution_count": 1,
   "metadata": {},
   "outputs": [],
   "source": [
    "import os, sys\n",
    "from pathlib import Path\n",
    "from typing import Dict, Tuple, List\n",
    "import spacy"
   ]
  },
  {
   "cell_type": "code",
   "execution_count": 2,
   "metadata": {},
   "outputs": [],
   "source": [
    "\n",
    "HOME = os.getcwd()\n",
    "current = HOME \n",
    "while 'src' not in os.listdir(current):\n",
    "    current = Path(current).parent\n",
    "\n",
    "PARENT_DIR = current\n",
    "\n",
    "DATA_FOLDER = os.path.join(PARENT_DIR, 'src','data')\n",
    "data_path = os.path.join(DATA_FOLDER, 'filtered.tsv')\n",
    "\n",
    "sys.path.append(str(current))\n",
    "sys.path.append(os.path.join(str(current), 'data_analysis'))\n",
    "sys.path.append(os.path.join(str(current), 'evaluation'))\n",
    "sys.path.append(os.path.join(str(current), 'text_processing'))"
   ]
  },
  {
   "cell_type": "code",
   "execution_count": 3,
   "metadata": {},
   "outputs": [
    {
     "name": "stderr",
     "output_type": "stream",
     "text": [
      "/home/ayhem18/DEV/TextDetoxification/env/lib/python3.11/site-packages/tqdm/auto.py:22: TqdmWarning: IProgress not found. Please update jupyter and ipywidgets. See https://ipywidgets.readthedocs.io/en/stable/user_install.html\n",
      "  from .autonotebook import tqdm as notebook_tqdm\n"
     ]
    }
   ],
   "source": [
    "# let's first fix the data \n",
    "import src.text_processing.preprocess as pr\n",
    "import src.data_preparation.prepare_data as prd \n",
    "# fixed_data = prd.fix_initial_data(data_path)\n",
    "data = prd.prepare_all_data(fixed_data_file=os.path.join(DATA_FOLDER, 'fixed.csv'), save=False)"
   ]
  },
  {
   "cell_type": "code",
   "execution_count": 4,
   "metadata": {},
   "outputs": [],
   "source": [
    "import random\n",
    "def process_text(text: str) -> str:\n",
    "    return pr.no_extra_spaces(pr.no_extra_chars(pr.to_lower(text)))\n",
    "\n",
    "def process_batch(batch: Dict, nlp):\n",
    "    p = random.random()\n",
    "    if p < 10 ** -5:\n",
    "        print(\"really ?\")\n",
    "    return dict([(k, [process_text(t) for t in v]) for k, v in ({\"source\": pr.uniform_ne_batched(batch['source'], nlp), \n",
    "                                                                 \"target\": pr.uniform_ne_batched(batch['target'], nlp)}).items()]) \n",
    "\n",
    "# load the nlp object in advnace\n",
    "nlp = spacy.load(\"en_core_web_sm\")\n",
    "# processed_data = data.map(lambda b: process_batch(b, nlp), batched=True)"
   ]
  },
  {
   "cell_type": "code",
   "execution_count": 5,
   "metadata": {},
   "outputs": [],
   "source": [
    "# processed_data = processed_data.filter(lambda s: (isinstance(s['source'], str) and isinstance(s['target'], str)))\n",
    "# # save the data\n",
    "# processed_data.to_csv(os.path.join(DATA_FOLDER, 'all_data_processed.csv'), index=False)"
   ]
  },
  {
   "cell_type": "code",
   "execution_count": 6,
   "metadata": {},
   "outputs": [
    {
     "data": {
      "text/plain": [
       "Dataset({\n",
       "    features: ['source', 'target'],\n",
       "    num_rows: 597519\n",
       "})"
      ]
     },
     "execution_count": 6,
     "metadata": {},
     "output_type": "execute_result"
    }
   ],
   "source": [
    "from datasets import load_dataset\n",
    "processed_data = load_dataset(\"csv\", data_files=os.path.join(DATA_FOLDER, \"all_data_processed.csv\"), split='train')\n",
    "processed_data = processed_data.filter(lambda s: (isinstance(s['source'], str) and isinstance(s['target'], str)))\n",
    "processed_data"
   ]
  },
  {
   "cell_type": "code",
   "execution_count": 7,
   "metadata": {},
   "outputs": [
    {
     "name": "stderr",
     "output_type": "stream",
     "text": [
      "Map: 100%|██████████| 597519/597519 [01:06<00:00, 9034.24 examples/s]\n"
     ]
    }
   ],
   "source": [
    "# let's take a small smaple of 10000 rows\n",
    "from src.toxicity_scores import n_grams as ng\n",
    "import importlib\n",
    "importlib.reload(ng)\n",
    "# sample = processed_data.select(range(10 ** 4))\n",
    "uni, bi = ng.build_unigram_counter(processed_data, save_folder=os.getcwd())\n",
    "# ignore_map = ng.build_ignore_toxic_map(0.1, pr.standard_stop_words())\n",
    "# ignore_map"
   ]
  },
  {
   "cell_type": "code",
   "execution_count": 14,
   "metadata": {},
   "outputs": [],
   "source": [
    "u, b = dict([(k, (v[\"source\"] + 1) / (v[\"target\"] + 1)) for k, v in uni.items()]) , dict([(k, (v[\"source\"] + 1) / (v[\"target\"] + 1)) for k, v in bi.items()]) "
   ]
  },
  {
   "cell_type": "code",
   "execution_count": 15,
   "metadata": {},
   "outputs": [
    {
     "data": {
      "text/plain": [
       "(0.07776813343654909, 0.09865210318382524, 0.01777829421333953)"
      ]
     },
     "execution_count": 15,
     "metadata": {},
     "output_type": "execute_result"
    }
   ],
   "source": [
    "from empiricaldist import Cdf\n",
    "\n",
    "u_scores = [v for k, v in u.items()]\n",
    "bi_scores = [v for k, v in b.items()]\n",
    "\n",
    "cdf_u = Cdf.from_seq(u_scores)\n",
    "cdf_b = Cdf.from_seq(bi_scores)\n",
    "\n",
    "toxicity_threshold_u = cdf_u.forward(0.4).item()\n",
    "toxicity_threshold_bi = cdf_b.forward(0.4).item()\n",
    "default_toxicitiy = cdf_u.forward(0.2).item()\n",
    "toxicity_threshold_bi, toxicity_threshold_u, default_toxicitiy\n"
   ]
  },
  {
   "cell_type": "code",
   "execution_count": 16,
   "metadata": {},
   "outputs": [],
   "source": [
    "def mask_sentence(s: str, masks: List[str], mask_token):\n",
    "    ls = pr.lemmatize(s)\n",
    "    return \" \".join([(c if c not in masks else mask_token) for c in ls])\n"
   ]
  },
  {
   "cell_type": "code",
   "execution_count": 30,
   "metadata": {},
   "outputs": [],
   "source": [
    "import torch\n",
    "\n",
    "def baseline_predict(sentences : str, \n",
    "                     model,\n",
    "                     tokenizer,\n",
    "                     uni_gram, \n",
    "                     bi_gram,  \n",
    "                     ):\n",
    "\n",
    "    mask_token = tokenizer.mask_token\n",
    "\n",
    "    # first extract the toxicity attribued\n",
    "    masks = [ng.get_toxicity_attributes(s, \n",
    "                                    uni_gram=uni_gram, \n",
    "                                    bi_gram=bi_gram) for s in sentences]\n",
    "    \n",
    "    masked_sentences = [mask_sentence(s, m, mask_token) for s, m in zip(sentences, masks)]\n",
    "\n",
    "    inputs = tokenizer(masked_sentences\n",
    "    , return_tensors=\"pt\", padding=True)\n",
    "    mask_token_index = torch.where(inputs[\"input_ids\"] == tokenizer.mask_token_id)[1]\n",
    "\n",
    "\n",
    "    logits = model(**inputs).logits\n",
    "    mask_token_logits = logits[0, mask_token_index, :]\n",
    "    top_tokens = torch.topk(mask_token_logits, 1, dim=1).indices.tolist()\n",
    "\n",
    "    return [text.replace(tokenizer.mask_token, tokenizer.decode(token)) for text, token in zip(masked_sentences, top_tokens)]"
   ]
  },
  {
   "cell_type": "code",
   "execution_count": 35,
   "metadata": {},
   "outputs": [
    {
     "data": {
      "text/plain": [
       "['do not do that', 'you studid . .']"
      ]
     },
     "execution_count": 35,
     "metadata": {},
     "output_type": "execute_result"
    }
   ],
   "source": [
    "from transformers import AutoTokenizer\n",
    "import torch\n",
    "from transformers import AutoModelForMaskedLM\n",
    "\n",
    "checkpoint = 'distilbert-base-uncased'\n",
    "sentences = ['do not do that ', \"you studid little bastard\"]\n",
    "model = AutoModelForMaskedLM.from_pretrained(checkpoint)\n",
    "tokenizer = AutoTokenizer.from_pretrained(checkpoint)\n",
    "\n",
    "baseline_predict(sentences=sentences, model=model, tokenizer=tokenizer, uni_gram=u, bi_gram=b)"
   ]
  },
  {
   "cell_type": "code",
   "execution_count": null,
   "metadata": {},
   "outputs": [],
   "source": [
    "tokenizer = AutoTokenizer.from_pretrained(checkpoint)\n",
    "inputs = tokenizer(sentences\n",
    ", return_tensors=\"pt\", padding=True)\n",
    "mask_token_index = torch.where(inputs[\"input_ids\"] == tokenizer.mask_token_id)[1]"
   ]
  },
  {
   "cell_type": "code",
   "execution_count": 29,
   "metadata": {},
   "outputs": [
    {
     "name": "stdout",
     "output_type": "stream",
     "text": [
      "Fuck off !\n",
      "Please shut up you stupid !\n"
     ]
    }
   ],
   "source": [
    "from transformers import AutoModelForMaskedLM\n",
    "\n",
    "model = AutoModelForMaskedLM.from_pretrained(checkpoint)\n",
    "logits = model(**inputs).logits\n",
    "mask_token_logits = logits[0, mask_token_index, :]\n",
    "top_tokens = torch.topk(mask_token_logits, 1, dim=1).indices.tolist()\n",
    "\n",
    "for token, text in zip(top_tokens, sentences):\n",
    "    print(text.replace(tokenizer.mask_token, tokenizer.decode(token)))"
   ]
  },
  {
   "cell_type": "code",
   "execution_count": null,
   "metadata": {},
   "outputs": [],
   "source": [
    "from transformers import pipeline, AutoTokenizer\n",
    "\n",
    "checkpoint = 'distilbert-base-uncased'\n",
    "pipe = pipeline('fill-mask', model=checkpoint)\n",
    "bert_tokenizer = AutoTokenizer.from_pretrained(checkpoint)"
   ]
  },
  {
   "cell_type": "code",
   "execution_count": null,
   "metadata": {},
   "outputs": [
    {
     "name": "stderr",
     "output_type": "stream",
     "text": [
      "Traceback (most recent call last):\n",
      "  File \"_pydevd_bundle/pydevd_cython.pyx\", line 577, in _pydevd_bundle.pydevd_cython.PyDBFrame._handle_exception\n",
      "  File \"_pydevd_bundle/pydevd_cython.pyx\", line 312, in _pydevd_bundle.pydevd_cython.PyDBFrame.do_wait_suspend\n",
      "  File \"/home/ayhem18/DEV/TextDetoxification/env/lib/python3.11/site-packages/debugpy/_vendored/pydevd/pydevd.py\", line 2070, in do_wait_suspend\n",
      "    keep_suspended = self._do_wait_suspend(thread, frame, event, arg, suspend_type, from_this_thread, frames_tracker)\n",
      "                     ^^^^^^^^^^^^^^^^^^^^^^^^^^^^^^^^^^^^^^^^^^^^^^^^^^^^^^^^^^^^^^^^^^^^^^^^^^^^^^^^^^^^^^^^^^^^^^^^\n",
      "  File \"/home/ayhem18/DEV/TextDetoxification/env/lib/python3.11/site-packages/debugpy/_vendored/pydevd/pydevd.py\", line 2106, in _do_wait_suspend\n",
      "    time.sleep(0.01)\n",
      "KeyboardInterrupt\n"
     ]
    },
    {
     "ename": "TypeError",
     "evalue": "list indices must be integers or slices, not str",
     "output_type": "error",
     "traceback": [
      "\u001b[0;31m---------------------------------------------------------------------------\u001b[0m",
      "\u001b[0;31mTypeError\u001b[0m                                 Traceback (most recent call last)",
      "\u001b[1;32m/home/ayhem18/DEV/TextDetoxification/src/models/baseline/exp.ipynb Cell 12\u001b[0m line \u001b[0;36m2\n\u001b[1;32m      <a href='vscode-notebook-cell:/home/ayhem18/DEV/TextDetoxification/src/models/baseline/exp.ipynb#X14sZmlsZQ%3D%3D?line=0'>1</a>\u001b[0m sentences \u001b[39m=\u001b[39m [\u001b[39m'\u001b[39m\u001b[39mFuck off nigga\u001b[39m\u001b[39m'\u001b[39m, \u001b[39m\"\u001b[39m\u001b[39mPlease shut up you stupid bitch\u001b[39m\u001b[39m\"\u001b[39m]\n\u001b[0;32m----> <a href='vscode-notebook-cell:/home/ayhem18/DEV/TextDetoxification/src/models/baseline/exp.ipynb#X14sZmlsZQ%3D%3D?line=1'>2</a>\u001b[0m baseline_predict(sentences, masked_ml_pipe\u001b[39m=\u001b[39;49mpipe, uni_gram\u001b[39m=\u001b[39;49mu, bi_gram\u001b[39m=\u001b[39;49mb, mask_token\u001b[39m=\u001b[39;49mbert_tokenizer\u001b[39m.\u001b[39;49mmask_token)\n",
      "\u001b[1;32m/home/ayhem18/DEV/TextDetoxification/src/models/baseline/exp.ipynb Cell 12\u001b[0m line \u001b[0;36m3\n\u001b[1;32m     <a href='vscode-notebook-cell:/home/ayhem18/DEV/TextDetoxification/src/models/baseline/exp.ipynb#X14sZmlsZQ%3D%3D?line=34'>35</a>\u001b[0m words \u001b[39m=\u001b[39m []\n\u001b[1;32m     <a href='vscode-notebook-cell:/home/ayhem18/DEV/TextDetoxification/src/models/baseline/exp.ipynb#X14sZmlsZQ%3D%3D?line=36'>37</a>\u001b[0m \u001b[39mfor\u001b[39;00m m \u001b[39min\u001b[39;00m model_outputs:\n\u001b[0;32m---> <a href='vscode-notebook-cell:/home/ayhem18/DEV/TextDetoxification/src/models/baseline/exp.ipynb#X14sZmlsZQ%3D%3D?line=37'>38</a>\u001b[0m     words\u001b[39m.\u001b[39mappend([r[\u001b[39m'\u001b[39;49m\u001b[39mtoken_str\u001b[39;49m\u001b[39m'\u001b[39;49m] \u001b[39mfor\u001b[39;49;00m r \u001b[39min\u001b[39;49;00m m])\n\u001b[1;32m     <a href='vscode-notebook-cell:/home/ayhem18/DEV/TextDetoxification/src/models/baseline/exp.ipynb#X14sZmlsZQ%3D%3D?line=39'>40</a>\u001b[0m \u001b[39mreturn\u001b[39;00m [restored_setence(ms, w, mask_token) \u001b[39mfor\u001b[39;00m ms, w \u001b[39min\u001b[39;00m \u001b[39mzip\u001b[39m(masked_sentences, words)]\n",
      "\u001b[1;32m/home/ayhem18/DEV/TextDetoxification/src/models/baseline/exp.ipynb Cell 12\u001b[0m line \u001b[0;36m3\n\u001b[1;32m     <a href='vscode-notebook-cell:/home/ayhem18/DEV/TextDetoxification/src/models/baseline/exp.ipynb#X14sZmlsZQ%3D%3D?line=34'>35</a>\u001b[0m words \u001b[39m=\u001b[39m []\n\u001b[1;32m     <a href='vscode-notebook-cell:/home/ayhem18/DEV/TextDetoxification/src/models/baseline/exp.ipynb#X14sZmlsZQ%3D%3D?line=36'>37</a>\u001b[0m \u001b[39mfor\u001b[39;00m m \u001b[39min\u001b[39;00m model_outputs:\n\u001b[0;32m---> <a href='vscode-notebook-cell:/home/ayhem18/DEV/TextDetoxification/src/models/baseline/exp.ipynb#X14sZmlsZQ%3D%3D?line=37'>38</a>\u001b[0m     words\u001b[39m.\u001b[39mappend([r[\u001b[39m'\u001b[39;49m\u001b[39mtoken_str\u001b[39;49m\u001b[39m'\u001b[39;49m] \u001b[39mfor\u001b[39;00m r \u001b[39min\u001b[39;00m m])\n\u001b[1;32m     <a href='vscode-notebook-cell:/home/ayhem18/DEV/TextDetoxification/src/models/baseline/exp.ipynb#X14sZmlsZQ%3D%3D?line=39'>40</a>\u001b[0m \u001b[39mreturn\u001b[39;00m [restored_setence(ms, w, mask_token) \u001b[39mfor\u001b[39;00m ms, w \u001b[39min\u001b[39;00m \u001b[39mzip\u001b[39m(masked_sentences, words)]\n",
      "\u001b[0;31mTypeError\u001b[0m: list indices must be integers or slices, not str"
     ]
    }
   ],
   "source": [
    "sentences = ['Fuck off nigga', \"Please shut up you stupid bitch\"]\n",
    "baseline_predict(sentences, masked_ml_pipe=pipe, uni_gram=u, bi_gram=b, mask_token=bert_tokenizer.mask_token)"
   ]
  },
  {
   "cell_type": "code",
   "execution_count": null,
   "metadata": {},
   "outputs": [
    {
     "name": "stdout",
     "output_type": "stream",
     "text": [
      "{'boy'}\n"
     ]
    }
   ],
   "source": [
    "import n_grams as ng\n",
    "importlib.reload(ng)\n",
    "s = \"Good boy!!\"  \n",
    "res = ng.get_toxicity_attributes(s, \n",
    "                                 uni_threshold=toxicity_threshold_u, \n",
    "                                 bi_threshold=toxicity_threshold_bi, \n",
    "                                 uni_gram=u, \n",
    "                                 bi_gram=b, \n",
    "                                 default_toxicity=default_toxicitiy)\n",
    "print(res)"
   ]
  },
  {
   "cell_type": "code",
   "execution_count": null,
   "metadata": {},
   "outputs": [],
   "source": [
    "ls = pr.lemmatize(s)\n",
    "# replace them with mask tokens\n",
    "# pass it to a pretrained model.\n",
    "# masked sentence \n",
    "    "
   ]
  },
  {
   "cell_type": "code",
   "execution_count": null,
   "metadata": {},
   "outputs": [
    {
     "data": {
      "text/plain": [
       "'[MASK]'"
      ]
     },
     "execution_count": 15,
     "metadata": {},
     "output_type": "execute_result"
    }
   ],
   "source": [
    "import pickle\n",
    "with open(os.path.join(PARENT_DIR, 'src', 'toxicity_scores', 'uni_gram.pk'), 'rb') as f:\n",
    "    counter_loaded = pickle.load(f) "
   ]
  },
  {
   "cell_type": "code",
   "execution_count": null,
   "metadata": {},
   "outputs": [
    {
     "data": {
      "text/plain": [
       "[{'score': 0.17653395235538483,\n",
       "  'token': 2851,\n",
       "  'token_str': 'morning',\n",
       "  'sequence': 'good morning!!'}]"
      ]
     },
     "execution_count": 16,
     "metadata": {},
     "output_type": "execute_result"
    }
   ],
   "source": [
    "masked_ls = \" \".join([(c if c not in res else bert_tokenizer.mask_token) for c in ls])\n",
    "masked_ls\n",
    "output = mask_filler([masked_ls, masked_ls], top_k=1)\n",
    "output[0]"
   ]
  },
  {
   "cell_type": "code",
   "execution_count": null,
   "metadata": {},
   "outputs": [
    {
     "ename": "FileNotFoundError",
     "evalue": "[Errno 2] No such file or directory: '/home/ayhem18/DEV/TextDetoxification/src/toxicity_scores/uni_gram.pk'",
     "output_type": "error",
     "traceback": [
      "\u001b[0;31m---------------------------------------------------------------------------\u001b[0m",
      "\u001b[0;31mFileNotFoundError\u001b[0m                         Traceback (most recent call last)",
      "\u001b[1;32m/home/ayhem18/DEV/TextDetoxification/src/models/baseline/exp.ipynb Cell 16\u001b[0m line \u001b[0;36m2\n\u001b[1;32m      <a href='vscode-notebook-cell:/home/ayhem18/DEV/TextDetoxification/src/models/baseline/exp.ipynb#X21sZmlsZQ%3D%3D?line=0'>1</a>\u001b[0m \u001b[39mimport\u001b[39;00m \u001b[39mpickle\u001b[39;00m\n\u001b[0;32m----> <a href='vscode-notebook-cell:/home/ayhem18/DEV/TextDetoxification/src/models/baseline/exp.ipynb#X21sZmlsZQ%3D%3D?line=1'>2</a>\u001b[0m \u001b[39mwith\u001b[39;00m \u001b[39mopen\u001b[39;49m(os\u001b[39m.\u001b[39;49mpath\u001b[39m.\u001b[39;49mjoin(PARENT_DIR, \u001b[39m'\u001b[39;49m\u001b[39msrc\u001b[39;49m\u001b[39m'\u001b[39;49m, \u001b[39m'\u001b[39;49m\u001b[39mtoxicity_scores\u001b[39;49m\u001b[39m'\u001b[39;49m, \u001b[39m'\u001b[39;49m\u001b[39muni_gram.pk\u001b[39;49m\u001b[39m'\u001b[39;49m), \u001b[39m'\u001b[39;49m\u001b[39mrb\u001b[39;49m\u001b[39m'\u001b[39;49m) \u001b[39mas\u001b[39;00m f:\n\u001b[1;32m      <a href='vscode-notebook-cell:/home/ayhem18/DEV/TextDetoxification/src/models/baseline/exp.ipynb#X21sZmlsZQ%3D%3D?line=2'>3</a>\u001b[0m     counter_loaded \u001b[39m=\u001b[39m pickle\u001b[39m.\u001b[39mload(f) \n",
      "File \u001b[0;32m~/DEV/TextDetoxification/env/lib/python3.11/site-packages/IPython/core/interactiveshell.py:286\u001b[0m, in \u001b[0;36m_modified_open\u001b[0;34m(file, *args, **kwargs)\u001b[0m\n\u001b[1;32m    279\u001b[0m \u001b[39mif\u001b[39;00m file \u001b[39min\u001b[39;00m {\u001b[39m0\u001b[39m, \u001b[39m1\u001b[39m, \u001b[39m2\u001b[39m}:\n\u001b[1;32m    280\u001b[0m     \u001b[39mraise\u001b[39;00m \u001b[39mValueError\u001b[39;00m(\n\u001b[1;32m    281\u001b[0m         \u001b[39mf\u001b[39m\u001b[39m\"\u001b[39m\u001b[39mIPython won\u001b[39m\u001b[39m'\u001b[39m\u001b[39mt let you open fd=\u001b[39m\u001b[39m{\u001b[39;00mfile\u001b[39m}\u001b[39;00m\u001b[39m by default \u001b[39m\u001b[39m\"\u001b[39m\n\u001b[1;32m    282\u001b[0m         \u001b[39m\"\u001b[39m\u001b[39mas it is likely to crash IPython. If you know what you are doing, \u001b[39m\u001b[39m\"\u001b[39m\n\u001b[1;32m    283\u001b[0m         \u001b[39m\"\u001b[39m\u001b[39myou can use builtins\u001b[39m\u001b[39m'\u001b[39m\u001b[39m open.\u001b[39m\u001b[39m\"\u001b[39m\n\u001b[1;32m    284\u001b[0m     )\n\u001b[0;32m--> 286\u001b[0m \u001b[39mreturn\u001b[39;00m io_open(file, \u001b[39m*\u001b[39;49margs, \u001b[39m*\u001b[39;49m\u001b[39m*\u001b[39;49mkwargs)\n",
      "\u001b[0;31mFileNotFoundError\u001b[0m: [Errno 2] No such file or directory: '/home/ayhem18/DEV/TextDetoxification/src/toxicity_scores/uni_gram.pk'"
     ]
    }
   ],
   "source": [
    "import pickle\n",
    "with open(os.path.join(PARENT_DIR, 'src', 'toxicity_scores', 'uni_gram.pk'), 'rb') as f:\n",
    "    counter_loaded = pickle.load(f) "
   ]
  }
 ],
 "metadata": {
  "kernelspec": {
   "display_name": "env",
   "language": "python",
   "name": "python3"
  },
  "language_info": {
   "codemirror_mode": {
    "name": "ipython",
    "version": 3
   },
   "file_extension": ".py",
   "mimetype": "text/x-python",
   "name": "python",
   "nbconvert_exporter": "python",
   "pygments_lexer": "ipython3",
   "version": "3.11.5"
  }
 },
 "nbformat": 4,
 "nbformat_minor": 2
}
