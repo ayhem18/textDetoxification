{
 "cells": [
  {
   "cell_type": "code",
   "execution_count": null,
   "metadata": {},
   "outputs": [],
   "source": [
    "import os, sys\n",
    "from pathlib import Path\n",
    "from typing import Dict, Tuple, List\n",
    "import spacy"
   ]
  },
  {
   "cell_type": "code",
   "execution_count": null,
   "metadata": {},
   "outputs": [],
   "source": [
    "\n",
    "HOME = os.getcwd()\n",
    "current = HOME \n",
    "while 'src' not in os.listdir(current):\n",
    "    current = Path(current).parent\n",
    "\n",
    "PARENT_DIR = current\n",
    "\n",
    "DATA_FOLDER = os.path.join(PARENT_DIR, 'src','data')\n",
    "data_path = os.path.join(DATA_FOLDER, 'filtered.tsv')\n",
    "\n",
    "sys.path.append(str(current))\n",
    "sys.path.append(os.path.join(str(current), 'data_analysis'))\n",
    "sys.path.append(os.path.join(str(current), 'evaluation'))\n",
    "sys.path.append(os.path.join(str(current), 'text_processing'))"
   ]
  },
  {
   "cell_type": "code",
   "execution_count": null,
   "metadata": {},
   "outputs": [],
   "source": [
    "# let's first fix the data \n",
    "import src.text_processing.preprocess as pr\n",
    "import src.data_preparation.prepare_data as prd \n",
    "# fixed_data = prd.fix_initial_data(data_path)\n",
    "data = prd.prepare_all_data(fixed_data_file=os.path.join(DATA_FOLDER, 'fixed.csv'), save=False)"
   ]
  },
  {
   "cell_type": "code",
   "execution_count": null,
   "metadata": {},
   "outputs": [],
   "source": [
    "import random\n",
    "def process_text(text: str) -> str:\n",
    "    return pr.no_extra_spaces(pr.no_extra_chars(pr.to_lower(text)))\n",
    "\n",
    "def process_batch(batch: Dict, nlp):\n",
    "    p = random.random()\n",
    "    if p < 10 ** -5:\n",
    "        print(\"really ?\")\n",
    "    return dict([(k, [process_text(t) for t in v]) for k, v in ({\"source\": pr.uniform_ne_batched(batch['source'], nlp), \n",
    "                                                                 \"target\": pr.uniform_ne_batched(batch['target'], nlp)}).items()]) \n",
    "\n",
    "# load the nlp object in advnace\n",
    "nlp = spacy.load(\"en_core_web_sm\")\n",
    "processed_data = data.map(lambda b: process_batch(b, nlp), batched=True)"
   ]
  },
  {
   "cell_type": "code",
   "execution_count": null,
   "metadata": {},
   "outputs": [],
   "source": [
    "# processed_data = processed_data.filter(lambda s: (isinstance(s['source'], str) and isinstance(s['target'], str)))\n",
    "# # save the data\n",
    "# processed_data.to_csv(os.path.join(DATA_FOLDER, 'all_data_processed.csv'), index=False)"
   ]
  },
  {
   "cell_type": "code",
   "execution_count": null,
   "metadata": {},
   "outputs": [],
   "source": [
    "from datasets import load_dataset\n",
    "processed_data = load_dataset(\"csv\", data_files=os.path.join(DATA_FOLDER, \"all_data_processed.csv\"), split='train')\n",
    "processed_data = processed_data.filter(lambda s: (isinstance(s['source'], str) and isinstance(s['target'], str)))\n",
    "processed_data"
   ]
  },
  {
   "cell_type": "code",
   "execution_count": null,
   "metadata": {},
   "outputs": [],
   "source": [
    "# let's take a small smaple of 10000 rows\n",
    "from src.toxicity_scores import n_grams as ng\n",
    "import importlib\n",
    "importlib.reload(ng)\n",
    "# sample = processed_data.select(range(10 ** 4))\n",
    "uni, bi = ng.build_unigram_counter(processed_data)\n",
    "ignore_map = ng.build_ignore_toxic_map(0.1, pr.standard_stop_words())\n",
    "# ignore_map"
   ]
  },
  {
   "cell_type": "code",
   "execution_count": null,
   "metadata": {},
   "outputs": [],
   "source": [
    "u, b = dict([(k, (v[\"source\"] + 1) / (v[\"target\"] + 1)) for k, v in uni.items()]) , dict([(k, (v[\"source\"] + 1) / (v[\"target\"] + 1)) for k, v in bi.items()]) "
   ]
  },
  {
   "cell_type": "code",
   "execution_count": null,
   "metadata": {},
   "outputs": [],
   "source": [
    "from empiricaldist import Cdf\n",
    "\n",
    "u_scores = [v for k, v in u.items()]\n",
    "bi_scores = [v for k, v in b.items()]\n",
    "\n",
    "cdf_u = Cdf.from_seq(u_scores)\n",
    "cdf_b = Cdf.from_seq(bi_scores)\n",
    "\n",
    "toxicity_threshold_u = cdf_u.forward(0.4).item()\n",
    "toxicity_threshold_bi = cdf_b.forward(0.4).item()\n",
    "default_toxicitiy = cdf_u.forward(0.2).item()\n",
    "toxicity_threshold_bi, toxicity_threshold_u, default_toxicitiy\n"
   ]
  },
  {
   "cell_type": "code",
   "execution_count": null,
   "metadata": {},
   "outputs": [],
   "source": [
    "def mask_sentence(s: str, masks: List[str], mask_token):\n",
    "    ls = pr.lemmatize(s)\n",
    "    return \" \".join([(c if c not in masks else mask_token) for c in ls])\n",
    "\n",
    "def restored_sentences(masted_sentence: str, words: List[str], mas):\n",
    "    ls = pr.lemmatize(masted_sentence)\n",
    "\n",
    "    return \" \".join([(c if c not in masks else mask_token) for c in ls])\n",
    "        \n",
    "\n",
    "\n",
    "def baseline_predict(sentences : str, \n",
    "                     masked_ml_pipe, \n",
    "                     uni_gram, \n",
    "                     bi_gram, \n",
    "                     mask_token: int ):\n",
    "    # first extract the toxicity attribued\n",
    "    masks = [ng.get_toxicity_attributes(s, \n",
    "                                    uni_gram=uni_gram, \n",
    "                                    bi_gram=bi_gram) for s in sentences]\n",
    "    \n",
    "    masked_sentences = [mask_sentence(s, m, mask_token) for s, m in zip(sentences)]\n",
    "\n",
    "    # pass the results through the pipline\n",
    "    model_outputs = masked_ml_pipe(masked_sentences, top_k=1)\n",
    "\n",
    "    #"
   ]
  },
  {
   "cell_type": "code",
   "execution_count": null,
   "metadata": {},
   "outputs": [],
   "source": [
    "importlib.reload(ng)\n",
    "s = \"I hate your face !!\"  \n",
    "res = ng.get_toxicity_attributes(s, \n",
    "                                 uni_threshold=toxicity_threshold_u, \n",
    "                                 bi_threshold=toxicity_threshold_bi, \n",
    "                                 uni_gram=u, \n",
    "                                 bi_gram=b, \n",
    "                                 default_toxicity=default_toxicitiy)\n",
    "\n",
    "\n",
    "print(res)"
   ]
  },
  {
   "cell_type": "code",
   "execution_count": null,
   "metadata": {},
   "outputs": [],
   "source": [
    "ls = pr.lemmatize(s)\n",
    "# replace them with mask tokens\n",
    "# pass it to a pretrained model.\n",
    "# masked sentence \n",
    "    "
   ]
  },
  {
   "cell_type": "code",
   "execution_count": null,
   "metadata": {},
   "outputs": [],
   "source": [
    "def pipelin "
   ]
  },
  {
   "cell_type": "code",
   "execution_count": null,
   "metadata": {},
   "outputs": [],
   "source": [
    "from transformers import AutoModelForMaskedLM, AutoTokenizer, pipeline\n",
    "ckpnt = \"distilbert-base-uncased\"\n",
    "\n",
    "mask_filler = pipeline(\"fill-mask\", ckpnt)\n",
    "# bert = AutoModelForMaskedLM.from_pretrained(ckpnt)\n",
    "bert_tokenizer = AutoTokenizer.from_pretrained(ckpnt)\n",
    "bert_tokenizer.mask_token"
   ]
  },
  {
   "cell_type": "code",
   "execution_count": null,
   "metadata": {},
   "outputs": [],
   "source": [
    "masked_ls = \" \".join([(c if c not in res else bert_tokenizer.mask_token) for c in ls])\n",
    "masked_ls\n",
    "output = mask_filler([masked_ls, masked_ls], top_k=1)\n",
    "output[0]"
   ]
  },
  {
   "cell_type": "code",
   "execution_count": null,
   "metadata": {},
   "outputs": [],
   "source": [
    "import pickle\n",
    "with open(os.path.join(PARENT_DIR, 'src', 'toxicity_scores', 'uni_gram.pk'), 'rb') as f:\n",
    "    counter_loaded = pickle.load(f) "
   ]
  }
 ],
 "metadata": {
  "kernelspec": {
   "display_name": "env",
   "language": "python",
   "name": "python3"
  },
  "language_info": {
   "codemirror_mode": {
    "name": "ipython",
    "version": 3
   },
   "file_extension": ".py",
   "mimetype": "text/x-python",
   "name": "python",
   "nbconvert_exporter": "python",
   "pygments_lexer": "ipython3",
   "version": "3.11.5"
  }
 },
 "nbformat": 4,
 "nbformat_minor": 2
}
