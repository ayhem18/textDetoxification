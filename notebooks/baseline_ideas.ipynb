{
 "cells": [
  {
   "cell_type": "code",
   "execution_count": 1,
   "metadata": {},
   "outputs": [],
   "source": [
    "import os, sys\n",
    "from pathlib import Path\n",
    "from typing import Dict, Tuple, List\n",
    "import spacy\n",
    "\n",
    "HOME = os.getcwd()\n",
    "DATA_FOLDER = os.path.join(Path(HOME).parent, 'data')\n",
    "data_path = os.path.join(DATA_FOLDER, 'filtered.tsv')"
   ]
  },
  {
   "cell_type": "code",
   "execution_count": 2,
   "metadata": {},
   "outputs": [],
   "source": [
    "current = HOME \n",
    "while 'src' not in os.listdir(current):\n",
    "    current = Path(current).parent\n",
    "\n",
    "PARENT_DIR = current\n",
    "\n",
    "sys.path.append(str(current))\n",
    "sys.path.append(os.path.join(str(current), 'data_analysis'))\n",
    "sys.path.append(os.path.join(str(current), 'evaluation'))\n",
    "sys.path.append(os.path.join(str(current), 'text_processing'))"
   ]
  },
  {
   "cell_type": "code",
   "execution_count": 3,
   "metadata": {},
   "outputs": [
    {
     "name": "stderr",
     "output_type": "stream",
     "text": [
      "/home/ayhem18/DEV/TextDetoxification/env/lib/python3.11/site-packages/tqdm/auto.py:22: TqdmWarning: IProgress not found. Please update jupyter and ipywidgets. See https://ipywidgets.readthedocs.io/en/stable/user_install.html\n",
      "  from .autonotebook import tqdm as notebook_tqdm\n"
     ]
    }
   ],
   "source": [
    "# let's first fix the data \n",
    "import src.text_processing.preprocess as pr\n",
    "import src.data_preparation.prepare_data as prd \n",
    "# fixed_data = prd.fix_initial_data(data_path)\n",
    "data = prd.prepare_all_data(fixed_data_file=os.path.join(DATA_FOLDER, 'fixed.csv'), save=False)"
   ]
  },
  {
   "cell_type": "markdown",
   "metadata": {},
   "source": [
    "## Process the data: Use NER to reduce the overall number of bi and uni-grams. "
   ]
  },
  {
   "cell_type": "code",
   "execution_count": null,
   "metadata": {},
   "outputs": [],
   "source": [
    "import random\n",
    "# sample = data.select(range(10 ** 4))\n",
    "\n",
    "def process_text(text: str) -> str:\n",
    "    return pr.no_extra_spaces(pr.no_extra_chars(pr.to_lower(text)))\n",
    "\n",
    "def process_batch(batch: Dict, nlp):\n",
    "    p = random.random()\n",
    "    if p < 10 ** -5:\n",
    "        print(\"really ?\")\n",
    "    return dict([(k, [process_text(t) for t in v]) for k, v in ({\"source\": pr.uniform_ne_batched(batch['source'], nlp), \n",
    "                                                                 \"target\": pr.uniform_ne_batched(batch['target'], nlp)}).items()]) \n",
    "\n",
    "# load the nlp object in advnace\n",
    "nlp = spacy.load(\"en_core_web_sm\")\n",
    "processed_data = data.map(lambda b: process_batch(b, nlp), batched=True)\n",
    "processed_data = processed_data.filter(lambda s: (isinstance(s['source'], str) and isinstance(s['target'], str)))\n",
    "processed_data.to_csv(os.path.join(DATA_FOLDER, 'all_data_processed.csv'), index=False)"
   ]
  },
  {
   "cell_type": "code",
   "execution_count": null,
   "metadata": {},
   "outputs": [],
   "source": [
    "processed_data = processed_data.filter(lambda s: (isinstance(s['source'], str) and isinstance(s['target'], str)))\n",
    "# save the data\n",
    "processed_data.to_csv(os.path.join(DATA_FOLDER, 'all_data_processed.csv'), index=False)"
   ]
  },
  {
   "cell_type": "code",
   "execution_count": 4,
   "metadata": {},
   "outputs": [],
   "source": [
    "from datasets import load_dataset\n",
    "processed_data = load_dataset(\"csv\", data_files=os.path.join(DATA_FOLDER, \"all_data_processed.csv\"), split='train')\n",
    "processed_data = processed_data.filter(lambda s: (isinstance(s['source'], str) and isinstance(s['target'], str)))"
   ]
  },
  {
   "cell_type": "markdown",
   "metadata": {},
   "source": [
    "## build the map between each uni-gram and its toxicity score."
   ]
  },
  {
   "cell_type": "code",
   "execution_count": 5,
   "metadata": {},
   "outputs": [
    {
     "name": "stderr",
     "output_type": "stream",
     "text": [
      "Map: 100%|██████████| 597519/597519 [01:05<00:00, 9179.63 examples/s]\n"
     ]
    }
   ],
   "source": [
    "# let's take a small smaple of 10000 rows\n",
    "from src.models.baseline import n_grams as ng\n",
    "import importlib\n",
    "importlib.reload(ng)\n",
    "uni, bi = ng.build_unigram_counter(processed_data)"
   ]
  },
  {
   "cell_type": "code",
   "execution_count": 7,
   "metadata": {},
   "outputs": [
    {
     "data": {
      "text/plain": [
       "(0.07776813343654909, 0.09865210318382524, 0.01777829421333953)"
      ]
     },
     "execution_count": 7,
     "metadata": {},
     "output_type": "execute_result"
    }
   ],
   "source": [
    "from empiricaldist import Cdf\n",
    "\n",
    "u_scores = [v for k, v in uni.items()]\n",
    "bi_scores = [v for k, v in bi.items()]\n",
    "\n",
    "cdf_u = Cdf.from_seq(u_scores)\n",
    "cdf_b = Cdf.from_seq(bi_scores)\n",
    "\n",
    "toxicity_threshold_u = cdf_u.forward(0.4).item()\n",
    "toxicity_threshold_bi = cdf_b.forward(0.4).item()\n",
    "default_toxicitiy = cdf_u.forward(0.2).item()\n",
    "toxicity_threshold_bi, toxicity_threshold_u, default_toxicitiy\n"
   ]
  },
  {
   "cell_type": "code",
   "execution_count": 8,
   "metadata": {},
   "outputs": [
    {
     "name": "stdout",
     "output_type": "stream",
     "text": [
      "{'hate', 'face'}\n"
     ]
    }
   ],
   "source": [
    "importlib.reload(ng)\n",
    "s = \"I hate your face !!\"  \n",
    "res = ng.get_toxicity_attributes(s, \n",
    "                                 uni_threshold=toxicity_threshold_u, \n",
    "                                 bi_threshold=toxicity_threshold_bi, \n",
    "                                 uni_gram=uni, \n",
    "                                 bi_gram=bi, \n",
    "                                 default_toxicity=default_toxicitiy)\n",
    "\n",
    "\n",
    "print(res)"
   ]
  }
 ],
 "metadata": {
  "kernelspec": {
   "display_name": "env",
   "language": "python",
   "name": "python3"
  },
  "language_info": {
   "codemirror_mode": {
    "name": "ipython",
    "version": 3
   },
   "file_extension": ".py",
   "mimetype": "text/x-python",
   "name": "python",
   "nbconvert_exporter": "python",
   "pygments_lexer": "ipython3",
   "version": "3.11.5"
  }
 },
 "nbformat": 4,
 "nbformat_minor": 2
}
