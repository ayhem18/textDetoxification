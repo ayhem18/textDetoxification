{
 "cells": [
  {
   "cell_type": "markdown",
   "metadata": {},
   "source": [
    "# Imports And Loading Data"
   ]
  },
  {
   "cell_type": "code",
   "execution_count": null,
   "metadata": {},
   "outputs": [],
   "source": [
    "# the notebook's main objective is to filter and prepare the dataset to train a summarizer on it.\n",
    "import os, sys\n",
    "from pathlib import Path\n",
    "HOME = os.getcwd()\n",
    "\n",
    "current = HOME \n",
    "while 'src' not in os.listdir(current):\n",
    "    current = Path(current).parent\n",
    "\n",
    "PARENT_DIR = str(current)\n",
    "DATA_FOLDER = os.path.join(PARENT_DIR, 'data')\n",
    "\n",
    "sys.path.append(str(current))\n",
    "sys.path.append(os.path.join(str(current), 'data_analysis'))\n",
    "sys.path.append(os.path.join(str(current), 'evaluation'))\n",
    "sys.path.append(os.path.join(str(current), 'text_processing')) "
   ]
  },
  {
   "cell_type": "markdown",
   "metadata": {},
   "source": [
    "# Custom Toxic Classifier"
   ]
  },
  {
   "cell_type": "code",
   "execution_count": null,
   "metadata": {},
   "outputs": [],
   "source": [
    "# read the data\n",
    "import pandas as pd\n",
    "data = pd.read_csv(os.path.join(DATA_FOLDER, 'toxic_train.csv'), usecols= lambda x: x !='id')\n",
    "data.head()"
   ]
  },
  {
   "cell_type": "code",
   "execution_count": null,
   "metadata": {},
   "outputs": [],
   "source": [
    "# let's convert all the different sub toxicity-labels into a single label.\n",
    "data['is_toxic'] = ((data['toxic'] + data['severe_toxic'] + data['obscene'] + data['threat'] + data['insult'] + data['identity_hate']) > 0).astype(int)\n",
    "def prepare_data(row):\n",
    "    row['is_toxic'] = int(row['toxic'] + row['severe_toxic'] + row['obcene'] + row['threat'] + row['insult'] + row['identity_hate'] > 0)\n",
    "    return row \n",
    "# new_data = data.apply(prepare_data, axis='index')\n",
    "new_data= data.drop(columns=['toxic','severe_toxic','obscene','threat','insult','identity_hate']).rename(columns={'comment_text': 'text'})\n",
    "new_data['is_toxic'].value_counts()"
   ]
  },
  {
   "cell_type": "markdown",
   "metadata": {},
   "source": [
    "### Balancing the data manually\n",
    "Since the data is heavily unbalanced, I had 2 options, either use the entire dataset (which around 400k) samples and apply techniques such as weighted loss, or balance it manually. The latter presented itself as a very attractive alternative due to the lack oo computational resources."
   ]
  },
  {
   "cell_type": "code",
   "execution_count": null,
   "metadata": {},
   "outputs": [],
   "source": [
    "toxic, non_toxic = new_data[new_data['is_toxic'] == 1], new_data[new_data['is_toxic'] == 0]\n",
    "# let's make a final balanced dataset\n",
    "num_samples = int(1.5 * len(toxic)) \n",
    "balanced_dataset = pd.concat([toxic, non_toxic.iloc[:num_samples, :]])\n",
    "# save the balanced dataset\n",
    "balanced_dataset.to_csv(os.path.join(DATA_FOLDER, 'toxicity_data.csv'), index=False)"
   ]
  },
  {
   "cell_type": "markdown",
   "metadata": {},
   "source": [
    "# Train Classifier"
   ]
  },
  {
   "cell_type": "code",
   "execution_count": null,
   "metadata": {},
   "outputs": [],
   "source": [
    "from transformers import RobertaTokenizer, RobertaForSequenceClassification, AutoModel, AutoTokenizer\n",
    "# load tokenizer and model weights\n",
    "toxic_tokenizer = RobertaTokenizer.from_pretrained('SkolkovoInstitute/roberta_toxicity_classifier')\n",
    "toxic_classifier = RobertaForSequenceClassification.from_pretrained('SkolkovoInstitute/roberta_toxicity_classifier')"
   ]
  },
  {
   "cell_type": "code",
   "execution_count": null,
   "metadata": {},
   "outputs": [],
   "source": [
    "import datasets\n",
    "data = datasets.load_dataset('csv', data_files=os.path.join(DATA_FOLDER, 'toxicity_data.csv'), split='train')\n",
    "\n",
    "import torch\n",
    "from transformers import AutoTokenizer, BartForSequenceClassification, AutoModelForSequenceClassification\n",
    "\n",
    "checkpoint = 'facebook/bart-base'\n",
    "tokenizer = AutoTokenizer.from_pretrained(checkpoint)\n",
    "model = AutoModelForSequenceClassification.from_pretrained(checkpoint, num_labels=2)\n",
    "\n",
    "# freeze the entire model but the classification head\n",
    "for n, p in model.named_parameters():\n",
    "    if n not in [\"classification_head.out_proj.bias\", \n",
    "                 'classification_head.dense.weight', \n",
    "                 'classification_head.dense.bias', \n",
    "                 'classification_head.out_proj.weight']:\n",
    "        \n",
    "        p.requires_grad = False\n",
    "    else:\n",
    "        print(n)"
   ]
  },
  {
   "cell_type": "code",
   "execution_count": null,
   "metadata": {},
   "outputs": [],
   "source": [
    "from typing import Dict\n",
    "from torch.nn.functional import softmax\n",
    "from transformers import DataCollatorWithPadding\n",
    "from torch.utils.data import DataLoader\n",
    "\n",
    "def process_labels(batch: Dict, device: str):\n",
    "    model_input = toxic_tokenizer(batch['text'], return_tensors='pt', truncation=True, padding=True)  \n",
    "    model_input = {k: v.to(device) for k, v in model_input.items()}\n",
    "    toxic_classifier.to(device)\n",
    "    model_input['label'] = softmax(toxic_classifier(**model_input).logits, dim=1)\n",
    "    return model_input\n",
    "\n",
    "# start by saving the outputs of the original classifier as logits after softmax\n",
    "def process_data(batch: Dict):\n",
    "    model_input = tokenizer(batch['text'], truncation=True)\n",
    "    model_input['label'] = batch['label']\n",
    "    return model_input\n",
    "\n",
    "DEVICE = 'cuda' if torch.cuda.is_available() else 'cpu'\n",
    "d = data.map(lambda b : process_labels(b, device=DEVICE), batched=True, batch_size=4)\n",
    "d = d.map(lambda b : process_data(b, device=DEVICE), batched=True, batch_size=32).remove_columns(['is_toxic', 'text'])"
   ]
  },
  {
   "cell_type": "code",
   "execution_count": null,
   "metadata": {},
   "outputs": [],
   "source": [
    "import src.data_preparation.prepare_data as pdr\n",
    "data_collator = DataCollatorWithPadding(tokenizer=tokenizer)\n",
    "train_data, val_data, test_data = pdr.data_split(d)"
   ]
  },
  {
   "cell_type": "markdown",
   "metadata": {},
   "source": [
    "## Customize the HF Trainer API"
   ]
  },
  {
   "cell_type": "code",
   "execution_count": null,
   "metadata": {},
   "outputs": [],
   "source": [
    "from torch import nn\n",
    "from transformers import Trainer\n",
    "\n",
    "\n",
    "# create a custom trainer for which the loss function is overridden: Use the Knowledge distillation loss\n",
    "class CustomTrainer(Trainer):\n",
    "    def compute_loss(self, model, inputs, return_outputs=False):\n",
    "        labels = inputs.pop(\"labels\")\n",
    "        # forward pass\n",
    "        outputs = model(**inputs)\n",
    "        logits = outputs.logits\n",
    "        loss = nn.CrossEntropyLoss()(logits, labels)\n",
    "        return (loss, outputs) if return_outputs else loss "
   ]
  },
  {
   "cell_type": "code",
   "execution_count": null,
   "metadata": {},
   "outputs": [],
   "source": [
    "from transformers import TrainingArguments\n",
    "\n",
    "batch_size = 246\n",
    "num_epochs = 1\n",
    "learning_rate = 5e-5\n",
    "warmup_steps = 500\n",
    "weight_decay = 0.01\n",
    "\n",
    "training_args = TrainingArguments(os.path.join(os.getcwd(), \"toxic_classifier_checkpoints\"), \n",
    "                                  per_device_train_batch_size=batch_size, \n",
    "                                  per_device_eval_batch_size=batch_size, \n",
    "                                  num_train_epochs=10, \n",
    "                                  warmup_steps=500, \n",
    "                                  weight_decay=0.001, \n",
    "                                  learning_rate=learning_rate, \n",
    "                                  report_to='none',\n",
    "                                  save_steps=100\n",
    "                                  )\n",
    "\n",
    "trainer = CustomTrainer(\n",
    "    model,\n",
    "    training_args,\n",
    "    train_dataset=train_data,\n",
    "    eval_dataset=val_data,\n",
    "    data_collator=data_collator,\n",
    "    tokenizer=tokenizer,\n",
    ")"
   ]
  },
  {
   "cell_type": "code",
   "execution_count": null,
   "metadata": {},
   "outputs": [],
   "source": [
    "from src.training_utilities.pytorch_utilities import cleanup\n",
    "cleanup()\n",
    "trainer.train()     "
   ]
  },
  {
   "cell_type": "markdown",
   "metadata": {},
   "source": [
    "## Training Seq2Seq"
   ]
  },
  {
   "cell_type": "code",
   "execution_count": null,
   "metadata": {},
   "outputs": [],
   "source": [
    "# let's load the data\n",
    "from datasets import load_dataset\n",
    "train_data = load_dataset(\"csv\", data_files=os.path.join(DATA_FOLDER, 'train_split.csv'), split='train')\n",
    "val_data = load_dataset(\"csv\", data_files=os.path.join(DATA_FOLDER, 'val_split.csv'), split='train')\n",
    "test_data = load_dataset(\"csv\", data_files=os.path.join(DATA_FOLDER, 'test_split.csv'), split='train')"
   ]
  },
  {
   "cell_type": "code",
   "execution_count": null,
   "metadata": {},
   "outputs": [],
   "source": [
    "def prepare_labeled_data(batch):\n",
    "    # tokenize 'x'\n",
    "    model_inputs = tokenizer(batch['source'], truncation=True)\n",
    "    # tokenize 'y'  \n",
    "    labels = tokenizer(text_target=batch[\"target\"], truncation=True)\n",
    "    # add it to the model's input\n",
    "    model_inputs[\"labels\"] = labels[\"input_ids\"]\n",
    "    # model_inputs[\"labels_attention_masks\"] = labels['attention_mask']    \n",
    "    return model_inputs\n",
    "\n",
    "train_data = train_data.map(prepare_labeled_data, batched=True).remove_columns(['source', 'target'])\n",
    "val_data = val_data.map(prepare_labeled_data, batched=True).remove_columns(['source', 'target'])\n",
    "test_data = test_data.map(prepare_labeled_data, batched=True).remove_columns(['source', 'target'])"
   ]
  },
  {
   "cell_type": "code",
   "execution_count": null,
   "metadata": {},
   "outputs": [],
   "source": [
    "# prepare the data collator\n",
    "from transformers import DataCollatorForSeq2Seq\n",
    "data_collator = DataCollatorForSeq2Seq(tokenizer=tokenizer)\n",
    "\n",
    "# define the custom trainer\n",
    "from src.training_utilities.pytorch_utilities import get_module_device\n",
    "from torch import nn\n",
    "from transformers import Trainer\n",
    "from torch.nn.functional import softmax\n",
    "\n",
    "class CustomTrainer(Trainer):\n",
    "    def __init__(self, toxic_classifier, *args, **kwargs):\n",
    "        self.toxic_classifier = toxic_classifier\n",
    "        super().__init__(*args, **kwargs)\n",
    "\n",
    "    def compute_loss(self, model, inputs, return_outputs=False):\n",
    "        model_output = model(**inputs)\n",
    "        \n",
    "        model_device = get_module_device(model)\n",
    "        # extract the sequence to sequence loss\n",
    "        s2s_loss = model_output.loss\n",
    "\n",
    "        labels = inputs['labels']\n",
    "        batch_size, max_sentence_length = labels.shape\n",
    "\n",
    "        # reproduce the \n",
    "        prediction_ids = model.generate(inputs['input_ids'], max_length=max_sentence_length)\n",
    "\n",
    "        attention_mask = torch.where(prediction_ids == self.tokenizer.pad_token_id,\n",
    "                                     torch.zeros(*prediction_ids.shape).to(model_device), torch.ones(*prediction_ids.shape).to(model_device))\n",
    "        \n",
    "        toxic_output = self.toxic_classifier(input_ids=prediction_ids, attention_mask=attention_mask)\n",
    "        toxic_loss = torch.mean(F.softmax(toxic_output.logits, dim=1)[:, 1])\n",
    "        loss = s2s_loss + 0.1 * toxic_loss \n",
    "        return (loss, model_output) if return_outputs else loss \n"
   ]
  },
  {
   "cell_type": "code",
   "execution_count": null,
   "metadata": {},
   "outputs": [],
   "source": [
    "from transformers import Seq2SeqTrainer, Seq2SeqTrainingArguments\n",
    "\n",
    "batch_size = 16\n",
    "num_epochs = 5\n",
    "learning_rate = 5e-5\n",
    "warmup_steps = 500\n",
    "weight_decay = 0.01\n",
    "\n",
    "sc_training_args = Seq2SeqTrainingArguments(\n",
    "    output_dir='seq_2_seq_checkpoints',\n",
    "    per_device_train_batch_size=batch_size,\n",
    "    per_device_eval_batch_size=batch_size,\n",
    "    predict_with_generate=True,\n",
    "    do_train=True,\n",
    "    do_eval=True,\n",
    "    logging_steps=100,\n",
    "    save_steps=100,\n",
    "    eval_steps=10,\n",
    "    overwrite_output_dir=True,\n",
    "    warmup_steps=warmup_steps,\n",
    "    learning_rate=learning_rate,\n",
    "    weight_decay=weight_decay,\n",
    "    num_train_epochs=num_epochs,\n",
    "    report_to=\"none\",\n",
    ")\n",
    "\n",
    "trainer = CustomTrainer(\n",
    "    model=model,\n",
    "    args=sc_training_args,\n",
    "    train_dataset=train_data,\n",
    "    eval_dataset=val_data,\n",
    "    data_collator=data_collator\n",
    ")"
   ]
  },
  {
   "cell_type": "code",
   "execution_count": null,
   "metadata": {},
   "outputs": [],
   "source": [
    "from src.training_utilities.pytorch_utilities import cleanup\n",
    "cleanup()\n",
    "trainer.train() "
   ]
  }
 ],
 "metadata": {
  "kernelspec": {
   "display_name": "env",
   "language": "python",
   "name": "python3"
  },
  "language_info": {
   "codemirror_mode": {
    "name": "ipython",
    "version": 3
   },
   "file_extension": ".py",
   "mimetype": "text/x-python",
   "name": "python",
   "nbconvert_exporter": "python",
   "pygments_lexer": "ipython3",
   "version": "3.11.5"
  }
 },
 "nbformat": 4,
 "nbformat_minor": 2
}
